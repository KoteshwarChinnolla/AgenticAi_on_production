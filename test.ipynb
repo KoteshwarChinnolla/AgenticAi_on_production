{
 "cells": [
  {
   "cell_type": "code",
   "execution_count": 13,
   "metadata": {},
   "outputs": [],
   "source": [
    "from tools import tools\n",
    "methods = [method for method in tools.__dict__ if callable(tools.__dict__[method])]"
   ]
  },
  {
   "cell_type": "code",
   "execution_count": 14,
   "metadata": {},
   "outputs": [
    {
     "data": {
      "text/plain": [
       "['add', 'Subtract', 'multiply', 'divide']"
      ]
     },
     "execution_count": 14,
     "metadata": {},
     "output_type": "execute_result"
    }
   ],
   "source": [
    "methods"
   ]
  },
  {
   "cell_type": "code",
   "execution_count": 1,
   "metadata": {},
   "outputs": [],
   "source": [
    "from toolcallinglm import build_graph\n",
    "from pprint import pprint\n",
    "graph=build_graph()\n",
    "message=input()\n",
    "response=graph.response(message,\"user\",\"1\")\n"
   ]
  },
  {
   "cell_type": "code",
   "execution_count": 3,
   "metadata": {},
   "outputs": [
    {
     "name": "stdout",
     "output_type": "stream",
     "text": [
      "================================ Human Message =================================\n",
      "Name: user\n",
      "\n",
      "what is fast api uses\n",
      "================================== Ai Message ==================================\n",
      "\n",
      "FastAPI is a modern, fast (high-performance), web framework for building APIs with Python 3.7+ based on standard Python type hints. It is designed to be fast, scalable, and easy to use, with automatic API documentation and strong support for asynchronous programming.\n",
      "\n",
      "Here are some common use cases for FastAPI:\n",
      "\n",
      "1. **Building RESTful APIs**: FastAPI is well-suited for creating RESTful APIs with JSON endpoints. It supports route handling, request parsing, and response generation out of the box.\n",
      "\n",
      "2. **Real-time Applications**: FastAPI has strong support for WebSockets, making it a great choice for real-time applications like chat apps, live updates, or collaborative tools.\n",
      "\n",
      "3. **Microservices Architecture**: FastAPI's lightweight and high-performance nature makes it a good fit for building microservices in a distributed system.\n",
      "\n",
      "4. **Data Processing**: With support for asynchronous programming (via `async` and `await`), FastAPI can handle high-throughput data processing tasks efficiently.\n",
      "\n",
      "5. **Machine Learning and AI**: FastAPI can be used to create APIs for serving machine learning models. It works well with libraries like TensorFlow, PyTorch, and scikit-learn.\n",
      "\n",
      "6. **GraphQL APIs**: While FastAPI is primarily designed for REST, it can also be used to build GraphQL APIs with the help of libraries like `graphene` or `ariadne`.\n",
      "\n",
      "7. **Webhooks**: FastAPI can be used to create webhooks for handling events from external services like payment gateways, social media platforms, or third-party APIs.\n",
      "\n",
      "8. **Serverless Applications**: FastAPI can be deployed as a serverless application using platforms like AWS Lambda, Google Cloud Functions, or Azure Functions.\n",
      "\n",
      "If you have a specific use case in mind, feel free to share, and I can provide more tailored guidance!\n",
      "\n"
     ]
    }
   ],
   "source": [
    "print(response)"
   ]
  },
  {
   "cell_type": "code",
   "execution_count": 27,
   "metadata": {},
   "outputs": [],
   "source": [
    "def prettu(response):\n",
    "    return response[\"messages\"][2]\n",
    "k=prettu(response)\n"
   ]
  },
  {
   "cell_type": "code",
   "execution_count": 36,
   "metadata": {},
   "outputs": [],
   "source": [
    "k=response[\"messages\"][1].pretty_repr()"
   ]
  },
  {
   "cell_type": "code",
   "execution_count": null,
   "metadata": {},
   "outputs": [],
   "source": []
  },
  {
   "cell_type": "code",
   "execution_count": 22,
   "metadata": {},
   "outputs": [
    {
     "name": "stdout",
     "output_type": "stream",
     "text": [
      "None\n"
     ]
    }
   ],
   "source": [
    "print(k)"
   ]
  },
  {
   "cell_type": "code",
   "execution_count": 4,
   "metadata": {},
   "outputs": [
    {
     "ename": "TypeError",
     "evalue": "'module' object is not callable",
     "output_type": "error",
     "traceback": [
      "\u001b[1;31m---------------------------------------------------------------------------\u001b[0m",
      "\u001b[1;31mTypeError\u001b[0m                                 Traceback (most recent call last)",
      "Cell \u001b[1;32mIn[4], line 2\u001b[0m\n\u001b[0;32m      1\u001b[0m \u001b[38;5;28;01mfrom\u001b[39;00m\u001b[38;5;250m \u001b[39m\u001b[38;5;21;01mlangsmith_file\u001b[39;00m\u001b[38;5;250m \u001b[39m\u001b[38;5;28;01mimport\u001b[39;00m openai_agent\n\u001b[1;32m----> 2\u001b[0m agent\u001b[38;5;241m=\u001b[39m\u001b[43mopenai_agent\u001b[49m\u001b[43m(\u001b[49m\u001b[43m)\u001b[49m\n\u001b[0;32m      3\u001b[0m agent\n",
      "\u001b[1;31mTypeError\u001b[0m: 'module' object is not callable"
     ]
    }
   ],
   "source": [
    "from langsmith_file import openai_agent\n",
    "agent=openai_agent()\n",
    "agent"
   ]
  }
 ],
 "metadata": {
  "kernelspec": {
   "display_name": "Python 3",
   "language": "python",
   "name": "python3"
  },
  "language_info": {
   "codemirror_mode": {
    "name": "ipython",
    "version": 3
   },
   "file_extension": ".py",
   "mimetype": "text/x-python",
   "name": "python",
   "nbconvert_exporter": "python",
   "pygments_lexer": "ipython3",
   "version": "3.12.0"
  }
 },
 "nbformat": 4,
 "nbformat_minor": 2
}
