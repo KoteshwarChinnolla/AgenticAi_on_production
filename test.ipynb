{
 "cells": [
  {
   "cell_type": "code",
   "execution_count": 13,
   "metadata": {},
   "outputs": [],
   "source": [
    "from tools import tools\n",
    "methods = [method for method in tools.__dict__ if callable(tools.__dict__[method])]"
   ]
  },
  {
   "cell_type": "code",
   "execution_count": 14,
   "metadata": {},
   "outputs": [
    {
     "data": {
      "text/plain": [
       "['add', 'Subtract', 'multiply', 'divide']"
      ]
     },
     "execution_count": 14,
     "metadata": {},
     "output_type": "execute_result"
    }
   ],
   "source": [
    "methods"
   ]
  },
  {
   "cell_type": "code",
   "execution_count": 2,
   "metadata": {},
   "outputs": [
    {
     "data": {
      "text/plain": [
       "'My age is 20.'"
      ]
     },
     "execution_count": 2,
     "metadata": {},
     "output_type": "execute_result"
    }
   ],
   "source": [
    "from a_info_model import gen_info\n",
    "graph=gen_info()\n",
    "message=\"what is your age\"\n",
    "graph.response(message,\"koti\",\"12\")"
   ]
  },
  {
   "cell_type": "code",
   "execution_count": 1,
   "metadata": {},
   "outputs": [],
   "source": [
    "from toolcallinglm import build_graph\n",
    "from pprint import pprint\n",
    "graph=build_graph()\n",
    "message=input()\n",
    "response=graph.response(message,\"user\",\"1\")\n"
   ]
  },
  {
   "cell_type": "code",
   "execution_count": 2,
   "metadata": {},
   "outputs": [
    {
     "data": {
      "text/plain": [
       "'\\n\\n{\"a\": 5, \"b\": 3} \\n\\n multiply\\n\\n{\"a\": 15, \"b\": 96} \\n\\n multiply\\n\\n{\"a\": 20, \"b\": 1440} \\n\\n add\\n\\n1460\\n\\n\\nThe result of the expression 20+5*3*96 is 1460.'"
      ]
     },
     "execution_count": 2,
     "metadata": {},
     "output_type": "execute_result"
    }
   ],
   "source": [
    "response"
   ]
  },
  {
   "cell_type": "code",
   "execution_count": 8,
   "metadata": {},
   "outputs": [
    {
     "name": "stdout",
     "output_type": "stream",
     "text": [
      "================================\u001b[1m Human Message \u001b[0m=================================\n",
      "Name: user\n",
      "\n",
      "20+5*3*96\n",
      "==================================\u001b[1m Ai Message \u001b[0m==================================\n",
      "Tool Calls:\n",
      "  multiply (call_a7dh)\n",
      " Call ID: call_a7dh\n",
      "  Args:\n",
      "    a: 5\n",
      "    b: 3\n",
      "  multiply (call_ggrv)\n",
      " Call ID: call_ggrv\n",
      "  Args:\n",
      "    a: 15\n",
      "    b: 96\n",
      "  add (call_t7dh)\n",
      " Call ID: call_t7dh\n",
      "  Args:\n",
      "    a: 20\n",
      "    b: 1440\n",
      "=================================\u001b[1m Tool Message \u001b[0m=================================\n",
      "Name: add\n",
      "\n",
      "1460\n",
      "==================================\u001b[1m Ai Message \u001b[0m==================================\n",
      "\n",
      "The result of the expression 20+5*3*96 is 1460.\n"
     ]
    }
   ],
   "source": [
    "for event in response:\n",
    "    event['messages'][-1].pretty_print()"
   ]
  },
  {
   "cell_type": "code",
   "execution_count": 3,
   "metadata": {},
   "outputs": [],
   "source": [
    "last_chat=[]\n",
    "for event in response:\n",
    "    last_chat.append(event[\"messages\"][-1])"
   ]
  },
  {
   "cell_type": "code",
   "execution_count": null,
   "metadata": {},
   "outputs": [
    {
     "data": {
      "text/plain": [
       "[HumanMessage(content='20+5*3*96', additional_kwargs={}, response_metadata={}, name='user', id='e869b446-720b-43d0-8254-2ba472b57037'),\n",
       " AIMessage(content='', additional_kwargs={'tool_calls': [{'id': 'call_dnd2', 'function': {'arguments': '{\"a\": 5, \"b\": 3}', 'name': 'multiply'}, 'type': 'function'}, {'id': 'call_nw66', 'function': {'arguments': '{\"a\": 15, \"b\": 96}', 'name': 'multiply'}, 'type': 'function'}, {'id': 'call_4y6c', 'function': {'arguments': '{\"a\": 20, \"b\": 1440}', 'name': 'add'}, 'type': 'function'}]}, response_metadata={'token_usage': {'completion_tokens': 147, 'prompt_tokens': 422, 'total_tokens': 569, 'completion_time': 0.735, 'prompt_time': 0.021974873, 'queue_time': 0.23801418400000002, 'total_time': 0.756974873}, 'model_name': 'qwen-2.5-32b', 'system_fingerprint': 'fp_35f92f8282', 'finish_reason': 'tool_calls', 'logprobs': None}, id='run-af3dd310-af73-4fd4-a266-3090e729a025-0', tool_calls=[{'name': 'multiply', 'args': {'a': 5, 'b': 3}, 'id': 'call_dnd2', 'type': 'tool_call'}, {'name': 'multiply', 'args': {'a': 15, 'b': 96}, 'id': 'call_nw66', 'type': 'tool_call'}, {'name': 'add', 'args': {'a': 20, 'b': 1440}, 'id': 'call_4y6c', 'type': 'tool_call'}], usage_metadata={'input_tokens': 422, 'output_tokens': 147, 'total_tokens': 569}),\n",
       " ToolMessage(content='1460', name='add', id='efd5b0b0-bd77-473a-9e75-33afac9f46a8', tool_call_id='call_4y6c'),\n",
       " AIMessage(content='The result of the expression 20+5*3*96 is 1460.', additional_kwargs={}, response_metadata={'token_usage': {'completion_tokens': 23, 'prompt_tokens': 557, 'total_tokens': 580, 'completion_time': 0.115, 'prompt_time': 0.028677013, 'queue_time': 0.23776853299999998, 'total_time': 0.143677013}, 'model_name': 'qwen-2.5-32b', 'system_fingerprint': 'fp_35f92f8282', 'finish_reason': 'stop', 'logprobs': None}, id='run-ec70520e-d75e-4731-8226-d07902c5ba33-0', usage_metadata={'input_tokens': 557, 'output_tokens': 23, 'total_tokens': 580})]"
      ]
     },
     "execution_count": 4,
     "metadata": {},
     "output_type": "execute_result"
    }
   ],
   "source": [
    "for i in last_chat:\n",
    "    "
   ]
  },
  {
   "cell_type": "code",
   "execution_count": 5,
   "metadata": {},
   "outputs": [],
   "source": [
    "AI_message=[i for i in last_chat if str(type(i))==\"<class 'langchain_core.messages.ai.AIMessage'>\"]\n",
    "Tool_message=[i for i in last_chat if str(type(i))==\"<class 'langchain_core.messages.tool.ToolMessage'>\"]"
   ]
  },
  {
   "cell_type": "code",
   "execution_count": 6,
   "metadata": {},
   "outputs": [
    {
     "data": {
      "text/plain": [
       "[AIMessage(content='', additional_kwargs={'tool_calls': [{'id': 'call_dnd2', 'function': {'arguments': '{\"a\": 5, \"b\": 3}', 'name': 'multiply'}, 'type': 'function'}, {'id': 'call_nw66', 'function': {'arguments': '{\"a\": 15, \"b\": 96}', 'name': 'multiply'}, 'type': 'function'}, {'id': 'call_4y6c', 'function': {'arguments': '{\"a\": 20, \"b\": 1440}', 'name': 'add'}, 'type': 'function'}]}, response_metadata={'token_usage': {'completion_tokens': 147, 'prompt_tokens': 422, 'total_tokens': 569, 'completion_time': 0.735, 'prompt_time': 0.021974873, 'queue_time': 0.23801418400000002, 'total_time': 0.756974873}, 'model_name': 'qwen-2.5-32b', 'system_fingerprint': 'fp_35f92f8282', 'finish_reason': 'tool_calls', 'logprobs': None}, id='run-af3dd310-af73-4fd4-a266-3090e729a025-0', tool_calls=[{'name': 'multiply', 'args': {'a': 5, 'b': 3}, 'id': 'call_dnd2', 'type': 'tool_call'}, {'name': 'multiply', 'args': {'a': 15, 'b': 96}, 'id': 'call_nw66', 'type': 'tool_call'}, {'name': 'add', 'args': {'a': 20, 'b': 1440}, 'id': 'call_4y6c', 'type': 'tool_call'}], usage_metadata={'input_tokens': 422, 'output_tokens': 147, 'total_tokens': 569}),\n",
       " AIMessage(content='The result of the expression 20+5*3*96 is 1460.', additional_kwargs={}, response_metadata={'token_usage': {'completion_tokens': 23, 'prompt_tokens': 557, 'total_tokens': 580, 'completion_time': 0.115, 'prompt_time': 0.028677013, 'queue_time': 0.23776853299999998, 'total_time': 0.143677013}, 'model_name': 'qwen-2.5-32b', 'system_fingerprint': 'fp_35f92f8282', 'finish_reason': 'stop', 'logprobs': None}, id='run-ec70520e-d75e-4731-8226-d07902c5ba33-0', usage_metadata={'input_tokens': 557, 'output_tokens': 23, 'total_tokens': 580})]"
      ]
     },
     "execution_count": 6,
     "metadata": {},
     "output_type": "execute_result"
    }
   ],
   "source": [
    "AI_message"
   ]
  },
  {
   "cell_type": "code",
   "execution_count": 9,
   "metadata": {},
   "outputs": [
    {
     "data": {
      "text/plain": [
       "[ToolMessage(content='1460', name='add', id='efd5b0b0-bd77-473a-9e75-33afac9f46a8', tool_call_id='call_4y6c')]"
      ]
     },
     "execution_count": 9,
     "metadata": {},
     "output_type": "execute_result"
    }
   ],
   "source": [
    "Tool_message"
   ]
  },
  {
   "cell_type": "code",
   "execution_count": 21,
   "metadata": {},
   "outputs": [],
   "source": [
    "tool_content=\"\"\n",
    "for i in Tool_message:\n",
    "    tool_content=i.content+\"\\n\"\n",
    "process=\"\"\n",
    "\n",
    "if len(AI_message)>1:\n",
    "    tools_called=AI_message[-2].additional_kwargs[\"tool_calls\"]\n",
    "    for i in tools_called:\n",
    "        process+=\"\\n\\n\"+str(i[\"function\"][\"arguments\"] + \" \\n\\n \" + str(i[\"function\"][\"name\"]))\n",
    "\n",
    "AI_content=AI_message[-1].content\n",
    "\n",
    "final_content=process+\"\\n\\n\"+tool_content+\"\\n\\n\"+AI_content"
   ]
  },
  {
   "cell_type": "code",
   "execution_count": 16,
   "metadata": {},
   "outputs": [
    {
     "data": {
      "text/plain": [
       "[{'id': 'call_dnd2',\n",
       "  'function': {'arguments': '{\"a\": 5, \"b\": 3}', 'name': 'multiply'},\n",
       "  'type': 'function'},\n",
       " {'id': 'call_nw66',\n",
       "  'function': {'arguments': '{\"a\": 15, \"b\": 96}', 'name': 'multiply'},\n",
       "  'type': 'function'},\n",
       " {'id': 'call_4y6c',\n",
       "  'function': {'arguments': '{\"a\": 20, \"b\": 1440}', 'name': 'add'},\n",
       "  'type': 'function'}]"
      ]
     },
     "execution_count": 16,
     "metadata": {},
     "output_type": "execute_result"
    }
   ],
   "source": [
    "tools_called"
   ]
  },
  {
   "cell_type": "code",
   "execution_count": null,
   "metadata": {},
   "outputs": [
    {
     "data": {
      "text/plain": [
       "'\\n{\"a\": 5, \"b\": 3}\\nmultiply\\n{\"a\": 15, \"b\": 96}\\nmultiply\\n{\"a\": 20, \"b\": 1440}\\nadd'"
      ]
     },
     "execution_count": 17,
     "metadata": {},
     "output_type": "execute_result"
    }
   ],
   "source": [
    "process=\"\"\n",
    "for i in tools_called:\n",
    "    process+=\"\\n\"+str(i[\"function\"][\"arguments\"] + \"\\n\" + str(i[\"function\"][\"name\"]))\n",
    "process\n",
    "    "
   ]
  },
  {
   "cell_type": "code",
   "execution_count": 15,
   "metadata": {},
   "outputs": [
    {
     "data": {
      "text/plain": [
       "'\\n{\"a\": 5, \"b\": 3}\\n{\"a\": 15, \"b\": 96}\\n{\"a\": 20, \"b\": 1440}'"
      ]
     },
     "execution_count": 15,
     "metadata": {},
     "output_type": "execute_result"
    }
   ],
   "source": [
    "process"
   ]
  },
  {
   "cell_type": "code",
   "execution_count": 22,
   "metadata": {},
   "outputs": [
    {
     "data": {
      "text/plain": [
       "'<p>{\"a\": 5, \"b\": 3} </p>\\n\\n<p>multiply</p>\\n\\n<p>{\"a\": 15, \"b\": 96} </p>\\n\\n<p>multiply</p>\\n\\n<p>{\"a\": 20, \"b\": 1440} </p>\\n\\n<p>add</p>\\n\\n<p>1460</p>\\n\\n<p>The result of the expression 20+5<em>3</em>96 is 1460.</p>\\n'"
      ]
     },
     "execution_count": 22,
     "metadata": {},
     "output_type": "execute_result"
    }
   ],
   "source": [
    "import markdown2\n",
    "md = markdown2.Markdown()\n",
    "md.convert(final_content)"
   ]
  },
  {
   "cell_type": "code",
   "execution_count": 12,
   "metadata": {},
   "outputs": [
    {
     "data": {
      "text/plain": [
       "'<p>11 </p>\\n<p>The result of 5 + 6 - 1 is 10.</p>'"
      ]
     },
     "execution_count": 12,
     "metadata": {},
     "output_type": "execute_result"
    }
   ],
   "source": [
    "import markdown\n",
    "md = markdown.Markdown()\n",
    "md.convert(response)"
   ]
  },
  {
   "cell_type": "code",
   "execution_count": null,
   "metadata": {},
   "outputs": [],
   "source": []
  },
  {
   "cell_type": "code",
   "execution_count": 22,
   "metadata": {},
   "outputs": [],
   "source": [
    "response=response[\"messages\"][-2:]"
   ]
  },
  {
   "cell_type": "code",
   "execution_count": 23,
   "metadata": {},
   "outputs": [
    {
     "data": {
      "text/plain": [
       "[ToolMessage(content='42', name='multiply', id='08569243-de0f-4a17-a713-e39a3047f56c', tool_call_id='call_sd7g'),\n",
       " AIMessage(content='The result of the arithmetic expression \\\\(5 + 6 \\\\times 7 - 13\\\\) is calculated as follows:\\n\\n1. **Multiplication first**: \\\\(6 \\\\times 7 = 42\\\\)\\n2. **Addition**: \\\\(5 + 42 = 47\\\\)\\n3. **Subtraction**: \\\\(47 - 13 = 34\\\\)\\n\\n**Answer:** 34', additional_kwargs={}, response_metadata={'token_usage': {'completion_tokens': 234, 'prompt_tokens': 653, 'total_tokens': 887, 'completion_time': 0.850909091, 'prompt_time': 0.028493957, 'queue_time': 0.23649407899999997, 'total_time': 0.879403048}, 'model_name': 'DeepSeek-R1-Distill-Llama-70B', 'system_fingerprint': 'fp_492bd52206', 'finish_reason': 'stop', 'logprobs': None}, id='run-36b8b315-d633-44bf-819b-496718f7f2de-0', usage_metadata={'input_tokens': 653, 'output_tokens': 234, 'total_tokens': 887})]"
      ]
     },
     "execution_count": 23,
     "metadata": {},
     "output_type": "execute_result"
    }
   ],
   "source": [
    "response"
   ]
  },
  {
   "cell_type": "code",
   "execution_count": 24,
   "metadata": {},
   "outputs": [
    {
     "name": "stdout",
     "output_type": "stream",
     "text": [
      "================================= Tool Message =================================\n",
      "Name: multiply\n",
      "\n",
      "42\n",
      "<class 'langchain_core.messages.tool.ToolMessage'>\n",
      "================================== Ai Message ==================================\n",
      "\n",
      "The result of the arithmetic expression \\(5 + 6 \\times 7 - 13\\) is calculated as follows:\n",
      "\n",
      "1. **Multiplication first**: \\(6 \\times 7 = 42\\)\n",
      "2. **Addition**: \\(5 + 42 = 47\\)\n",
      "3. **Subtraction**: \\(47 - 13 = 34\\)\n",
      "\n",
      "**Answer:** 34\n",
      "<class 'langchain_core.messages.ai.AIMessage'>\n"
     ]
    }
   ],
   "source": [
    "for i in response:\n",
    "    if str(type(i))==\"<class 'langchain_core.messages.ai.AIMessage'>\" or str(type(i))==\"<class 'langchain_core.messages.tool.ToolMessage'>\":\n",
    "        print(i.pretty_repr())\n",
    "    print(type(i))"
   ]
  },
  {
   "cell_type": "code",
   "execution_count": 27,
   "metadata": {},
   "outputs": [],
   "source": [
    "def prettu(response):\n",
    "    return response[\"messages\"][2]\n",
    "k=prettu(response)\n"
   ]
  },
  {
   "cell_type": "code",
   "execution_count": 36,
   "metadata": {},
   "outputs": [],
   "source": [
    "k=response[\"messages\"][1].pretty_repr()"
   ]
  },
  {
   "cell_type": "code",
   "execution_count": null,
   "metadata": {},
   "outputs": [],
   "source": []
  },
  {
   "cell_type": "code",
   "execution_count": 22,
   "metadata": {},
   "outputs": [
    {
     "name": "stdout",
     "output_type": "stream",
     "text": [
      "None\n"
     ]
    }
   ],
   "source": [
    "print(k)"
   ]
  },
  {
   "cell_type": "code",
   "execution_count": 4,
   "metadata": {},
   "outputs": [
    {
     "ename": "TypeError",
     "evalue": "'module' object is not callable",
     "output_type": "error",
     "traceback": [
      "\u001b[1;31m---------------------------------------------------------------------------\u001b[0m",
      "\u001b[1;31mTypeError\u001b[0m                                 Traceback (most recent call last)",
      "Cell \u001b[1;32mIn[4], line 2\u001b[0m\n\u001b[0;32m      1\u001b[0m \u001b[38;5;28;01mfrom\u001b[39;00m\u001b[38;5;250m \u001b[39m\u001b[38;5;21;01mlangsmith_file\u001b[39;00m\u001b[38;5;250m \u001b[39m\u001b[38;5;28;01mimport\u001b[39;00m openai_agent\n\u001b[1;32m----> 2\u001b[0m agent\u001b[38;5;241m=\u001b[39m\u001b[43mopenai_agent\u001b[49m\u001b[43m(\u001b[49m\u001b[43m)\u001b[49m\n\u001b[0;32m      3\u001b[0m agent\n",
      "\u001b[1;31mTypeError\u001b[0m: 'module' object is not callable"
     ]
    }
   ],
   "source": [
    "from langsmith_file import openai_agent\n",
    "agent=openai_agent()\n",
    "agent"
   ]
  }
 ],
 "metadata": {
  "kernelspec": {
   "display_name": "Python 3",
   "language": "python",
   "name": "python3"
  },
  "language_info": {
   "codemirror_mode": {
    "name": "ipython",
    "version": 3
   },
   "file_extension": ".py",
   "mimetype": "text/x-python",
   "name": "python",
   "nbconvert_exporter": "python",
   "pygments_lexer": "ipython3",
   "version": "3.12.9"
  }
 },
 "nbformat": 4,
 "nbformat_minor": 2
}
