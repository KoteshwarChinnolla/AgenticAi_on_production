{
 "cells": [
  {
   "cell_type": "code",
   "execution_count": 13,
   "metadata": {},
   "outputs": [],
   "source": [
    "from tools import tools\n",
    "methods = [method for method in tools.__dict__ if callable(tools.__dict__[method])]"
   ]
  },
  {
   "cell_type": "code",
   "execution_count": 14,
   "metadata": {},
   "outputs": [
    {
     "data": {
      "text/plain": [
       "['add', 'Subtract', 'multiply', 'divide']"
      ]
     },
     "execution_count": 14,
     "metadata": {},
     "output_type": "execute_result"
    }
   ],
   "source": [
    "methods"
   ]
  },
  {
   "cell_type": "code",
   "execution_count": 2,
   "metadata": {},
   "outputs": [
    {
     "data": {
      "text/plain": [
       "'My age is 20.'"
      ]
     },
     "execution_count": 2,
     "metadata": {},
     "output_type": "execute_result"
    }
   ],
   "source": [
    "from a_info_model import gen_info\n",
    "graph=gen_info()\n",
    "message=\"what is your age\"\n",
    "graph.response(message,\"koti\",\"12\")"
   ]
  },
  {
   "cell_type": "code",
   "execution_count": 1,
   "metadata": {},
   "outputs": [],
   "source": [
    "from toolcallinglm import build_graph\n",
    "from pprint import pprint\n",
    "graph=build_graph()\n",
    "message=input()\n",
    "response=graph.response(message,\"user\",\"1\")\n"
   ]
  },
  {
   "cell_type": "code",
   "execution_count": 2,
   "metadata": {},
   "outputs": [
    {
     "data": {
      "text/plain": [
       "'\\n\\n{\"a\": 5, \"b\": 3} \\n\\n multiply\\n\\n{\"a\": 15, \"b\": 96} \\n\\n multiply\\n\\n{\"a\": 20, \"b\": 1440} \\n\\n add\\n\\n1460\\n\\n\\nThe result of the expression 20+5*3*96 is 1460.'"
      ]
     },
     "execution_count": 2,
     "metadata": {},
     "output_type": "execute_result"
    }
   ],
   "source": [
    "response"
   ]
  },
  {
   "cell_type": "code",
   "execution_count": 8,
   "metadata": {},
   "outputs": [
    {
     "name": "stdout",
     "output_type": "stream",
     "text": [
      "================================\u001b[1m Human Message \u001b[0m=================================\n",
      "Name: user\n",
      "\n",
      "20+5*3*96\n",
      "==================================\u001b[1m Ai Message \u001b[0m==================================\n",
      "Tool Calls:\n",
      "  multiply (call_a7dh)\n",
      " Call ID: call_a7dh\n",
      "  Args:\n",
      "    a: 5\n",
      "    b: 3\n",
      "  multiply (call_ggrv)\n",
      " Call ID: call_ggrv\n",
      "  Args:\n",
      "    a: 15\n",
      "    b: 96\n",
      "  add (call_t7dh)\n",
      " Call ID: call_t7dh\n",
      "  Args:\n",
      "    a: 20\n",
      "    b: 1440\n",
      "=================================\u001b[1m Tool Message \u001b[0m=================================\n",
      "Name: add\n",
      "\n",
      "1460\n",
      "==================================\u001b[1m Ai Message \u001b[0m==================================\n",
      "\n",
      "The result of the expression 20+5*3*96 is 1460.\n"
     ]
    }
   ],
   "source": [
    "for event in response:\n",
    "    event['messages'][-1].pretty_print()"
   ]
  },
  {
   "cell_type": "code",
   "execution_count": 3,
   "metadata": {},
   "outputs": [],
   "source": [
    "last_chat=[]\n",
    "for event in response:\n",
    "    last_chat.append(event[\"messages\"][-1])"
   ]
  },
  {
   "cell_type": "code",
   "execution_count": null,
   "metadata": {},
   "outputs": [
    {
     "data": {
      "text/plain": [
       "[HumanMessage(content='20+5*3*96', additional_kwargs={}, response_metadata={}, name='user', id='e869b446-720b-43d0-8254-2ba472b57037'),\n",
       " AIMessage(content='', additional_kwargs={'tool_calls': [{'id': 'call_dnd2', 'function': {'arguments': '{\"a\": 5, \"b\": 3}', 'name': 'multiply'}, 'type': 'function'}, {'id': 'call_nw66', 'function': {'arguments': '{\"a\": 15, \"b\": 96}', 'name': 'multiply'}, 'type': 'function'}, {'id': 'call_4y6c', 'function': {'arguments': '{\"a\": 20, \"b\": 1440}', 'name': 'add'}, 'type': 'function'}]}, response_metadata={'token_usage': {'completion_tokens': 147, 'prompt_tokens': 422, 'total_tokens': 569, 'completion_time': 0.735, 'prompt_time': 0.021974873, 'queue_time': 0.23801418400000002, 'total_time': 0.756974873}, 'model_name': 'qwen-2.5-32b', 'system_fingerprint': 'fp_35f92f8282', 'finish_reason': 'tool_calls', 'logprobs': None}, id='run-af3dd310-af73-4fd4-a266-3090e729a025-0', tool_calls=[{'name': 'multiply', 'args': {'a': 5, 'b': 3}, 'id': 'call_dnd2', 'type': 'tool_call'}, {'name': 'multiply', 'args': {'a': 15, 'b': 96}, 'id': 'call_nw66', 'type': 'tool_call'}, {'name': 'add', 'args': {'a': 20, 'b': 1440}, 'id': 'call_4y6c', 'type': 'tool_call'}], usage_metadata={'input_tokens': 422, 'output_tokens': 147, 'total_tokens': 569}),\n",
       " ToolMessage(content='1460', name='add', id='efd5b0b0-bd77-473a-9e75-33afac9f46a8', tool_call_id='call_4y6c'),\n",
       " AIMessage(content='The result of the expression 20+5*3*96 is 1460.', additional_kwargs={}, response_metadata={'token_usage': {'completion_tokens': 23, 'prompt_tokens': 557, 'total_tokens': 580, 'completion_time': 0.115, 'prompt_time': 0.028677013, 'queue_time': 0.23776853299999998, 'total_time': 0.143677013}, 'model_name': 'qwen-2.5-32b', 'system_fingerprint': 'fp_35f92f8282', 'finish_reason': 'stop', 'logprobs': None}, id='run-ec70520e-d75e-4731-8226-d07902c5ba33-0', usage_metadata={'input_tokens': 557, 'output_tokens': 23, 'total_tokens': 580})]"
      ]
     },
     "execution_count": 4,
     "metadata": {},
     "output_type": "execute_result"
    }
   ],
   "source": [
    "for i in last_chat:\n",
    "    "
   ]
  },
  {
   "cell_type": "code",
   "execution_count": 5,
   "metadata": {},
   "outputs": [],
   "source": [
    "AI_message=[i for i in last_chat if str(type(i))==\"<class 'langchain_core.messages.ai.AIMessage'>\"]\n",
    "Tool_message=[i for i in last_chat if str(type(i))==\"<class 'langchain_core.messages.tool.ToolMessage'>\"]"
   ]
  },
  {
   "cell_type": "code",
   "execution_count": 6,
   "metadata": {},
   "outputs": [
    {
     "data": {
      "text/plain": [
       "[AIMessage(content='', additional_kwargs={'tool_calls': [{'id': 'call_dnd2', 'function': {'arguments': '{\"a\": 5, \"b\": 3}', 'name': 'multiply'}, 'type': 'function'}, {'id': 'call_nw66', 'function': {'arguments': '{\"a\": 15, \"b\": 96}', 'name': 'multiply'}, 'type': 'function'}, {'id': 'call_4y6c', 'function': {'arguments': '{\"a\": 20, \"b\": 1440}', 'name': 'add'}, 'type': 'function'}]}, response_metadata={'token_usage': {'completion_tokens': 147, 'prompt_tokens': 422, 'total_tokens': 569, 'completion_time': 0.735, 'prompt_time': 0.021974873, 'queue_time': 0.23801418400000002, 'total_time': 0.756974873}, 'model_name': 'qwen-2.5-32b', 'system_fingerprint': 'fp_35f92f8282', 'finish_reason': 'tool_calls', 'logprobs': None}, id='run-af3dd310-af73-4fd4-a266-3090e729a025-0', tool_calls=[{'name': 'multiply', 'args': {'a': 5, 'b': 3}, 'id': 'call_dnd2', 'type': 'tool_call'}, {'name': 'multiply', 'args': {'a': 15, 'b': 96}, 'id': 'call_nw66', 'type': 'tool_call'}, {'name': 'add', 'args': {'a': 20, 'b': 1440}, 'id': 'call_4y6c', 'type': 'tool_call'}], usage_metadata={'input_tokens': 422, 'output_tokens': 147, 'total_tokens': 569}),\n",
       " AIMessage(content='The result of the expression 20+5*3*96 is 1460.', additional_kwargs={}, response_metadata={'token_usage': {'completion_tokens': 23, 'prompt_tokens': 557, 'total_tokens': 580, 'completion_time': 0.115, 'prompt_time': 0.028677013, 'queue_time': 0.23776853299999998, 'total_time': 0.143677013}, 'model_name': 'qwen-2.5-32b', 'system_fingerprint': 'fp_35f92f8282', 'finish_reason': 'stop', 'logprobs': None}, id='run-ec70520e-d75e-4731-8226-d07902c5ba33-0', usage_metadata={'input_tokens': 557, 'output_tokens': 23, 'total_tokens': 580})]"
      ]
     },
     "execution_count": 6,
     "metadata": {},
     "output_type": "execute_result"
    }
   ],
   "source": [
    "AI_message"
   ]
  },
  {
   "cell_type": "code",
   "execution_count": 9,
   "metadata": {},
   "outputs": [
    {
     "data": {
      "text/plain": [
       "[ToolMessage(content='1460', name='add', id='efd5b0b0-bd77-473a-9e75-33afac9f46a8', tool_call_id='call_4y6c')]"
      ]
     },
     "execution_count": 9,
     "metadata": {},
     "output_type": "execute_result"
    }
   ],
   "source": [
    "Tool_message"
   ]
  },
  {
   "cell_type": "code",
   "execution_count": 21,
   "metadata": {},
   "outputs": [],
   "source": [
    "tool_content=\"\"\n",
    "for i in Tool_message:\n",
    "    tool_content=i.content+\"\\n\"\n",
    "process=\"\"\n",
    "\n",
    "if len(AI_message)>1:\n",
    "    tools_called=AI_message[-2].additional_kwargs[\"tool_calls\"]\n",
    "    for i in tools_called:\n",
    "        process+=\"\\n\\n\"+str(i[\"function\"][\"arguments\"] + \" \\n\\n \" + str(i[\"function\"][\"name\"]))\n",
    "\n",
    "AI_content=AI_message[-1].content\n",
    "\n",
    "final_content=process+\"\\n\\n\"+tool_content+\"\\n\\n\"+AI_content"
   ]
  },
  {
   "cell_type": "code",
   "execution_count": 16,
   "metadata": {},
   "outputs": [
    {
     "data": {
      "text/plain": [
       "[{'id': 'call_dnd2',\n",
       "  'function': {'arguments': '{\"a\": 5, \"b\": 3}', 'name': 'multiply'},\n",
       "  'type': 'function'},\n",
       " {'id': 'call_nw66',\n",
       "  'function': {'arguments': '{\"a\": 15, \"b\": 96}', 'name': 'multiply'},\n",
       "  'type': 'function'},\n",
       " {'id': 'call_4y6c',\n",
       "  'function': {'arguments': '{\"a\": 20, \"b\": 1440}', 'name': 'add'},\n",
       "  'type': 'function'}]"
      ]
     },
     "execution_count": 16,
     "metadata": {},
     "output_type": "execute_result"
    }
   ],
   "source": [
    "tools_called"
   ]
  },
  {
   "cell_type": "code",
   "execution_count": null,
   "metadata": {},
   "outputs": [
    {
     "data": {
      "text/plain": [
       "'\\n{\"a\": 5, \"b\": 3}\\nmultiply\\n{\"a\": 15, \"b\": 96}\\nmultiply\\n{\"a\": 20, \"b\": 1440}\\nadd'"
      ]
     },
     "execution_count": 17,
     "metadata": {},
     "output_type": "execute_result"
    }
   ],
   "source": [
    "process=\"\"\n",
    "for i in tools_called:\n",
    "    process+=\"\\n\"+str(i[\"function\"][\"arguments\"] + \"\\n\" + str(i[\"function\"][\"name\"]))\n",
    "process\n",
    "    "
   ]
  },
  {
   "cell_type": "code",
   "execution_count": 15,
   "metadata": {},
   "outputs": [
    {
     "data": {
      "text/plain": [
       "'\\n{\"a\": 5, \"b\": 3}\\n{\"a\": 15, \"b\": 96}\\n{\"a\": 20, \"b\": 1440}'"
      ]
     },
     "execution_count": 15,
     "metadata": {},
     "output_type": "execute_result"
    }
   ],
   "source": [
    "process"
   ]
  },
  {
   "cell_type": "code",
   "execution_count": 22,
   "metadata": {},
   "outputs": [
    {
     "data": {
      "text/plain": [
       "'<p>{\"a\": 5, \"b\": 3} </p>\\n\\n<p>multiply</p>\\n\\n<p>{\"a\": 15, \"b\": 96} </p>\\n\\n<p>multiply</p>\\n\\n<p>{\"a\": 20, \"b\": 1440} </p>\\n\\n<p>add</p>\\n\\n<p>1460</p>\\n\\n<p>The result of the expression 20+5<em>3</em>96 is 1460.</p>\\n'"
      ]
     },
     "execution_count": 22,
     "metadata": {},
     "output_type": "execute_result"
    }
   ],
   "source": [
    "import markdown2\n",
    "md = markdown2.Markdown()\n",
    "md.convert(final_content)"
   ]
  },
  {
   "cell_type": "code",
   "execution_count": 12,
   "metadata": {},
   "outputs": [
    {
     "data": {
      "text/plain": [
       "'<p>11 </p>\\n<p>The result of 5 + 6 - 1 is 10.</p>'"
      ]
     },
     "execution_count": 12,
     "metadata": {},
     "output_type": "execute_result"
    }
   ],
   "source": [
    "import markdown\n",
    "md = markdown.Markdown()\n",
    "md.convert(response)"
   ]
  },
  {
   "cell_type": "code",
   "execution_count": null,
   "metadata": {},
   "outputs": [],
   "source": []
  },
  {
   "cell_type": "code",
   "execution_count": 22,
   "metadata": {},
   "outputs": [],
   "source": [
    "response=response[\"messages\"][-2:]"
   ]
  },
  {
   "cell_type": "code",
   "execution_count": 23,
   "metadata": {},
   "outputs": [
    {
     "data": {
      "text/plain": [
       "[ToolMessage(content='42', name='multiply', id='08569243-de0f-4a17-a713-e39a3047f56c', tool_call_id='call_sd7g'),\n",
       " AIMessage(content='The result of the arithmetic expression \\\\(5 + 6 \\\\times 7 - 13\\\\) is calculated as follows:\\n\\n1. **Multiplication first**: \\\\(6 \\\\times 7 = 42\\\\)\\n2. **Addition**: \\\\(5 + 42 = 47\\\\)\\n3. **Subtraction**: \\\\(47 - 13 = 34\\\\)\\n\\n**Answer:** 34', additional_kwargs={}, response_metadata={'token_usage': {'completion_tokens': 234, 'prompt_tokens': 653, 'total_tokens': 887, 'completion_time': 0.850909091, 'prompt_time': 0.028493957, 'queue_time': 0.23649407899999997, 'total_time': 0.879403048}, 'model_name': 'DeepSeek-R1-Distill-Llama-70B', 'system_fingerprint': 'fp_492bd52206', 'finish_reason': 'stop', 'logprobs': None}, id='run-36b8b315-d633-44bf-819b-496718f7f2de-0', usage_metadata={'input_tokens': 653, 'output_tokens': 234, 'total_tokens': 887})]"
      ]
     },
     "execution_count": 23,
     "metadata": {},
     "output_type": "execute_result"
    }
   ],
   "source": [
    "response"
   ]
  },
  {
   "cell_type": "code",
   "execution_count": 24,
   "metadata": {},
   "outputs": [
    {
     "name": "stdout",
     "output_type": "stream",
     "text": [
      "================================= Tool Message =================================\n",
      "Name: multiply\n",
      "\n",
      "42\n",
      "<class 'langchain_core.messages.tool.ToolMessage'>\n",
      "================================== Ai Message ==================================\n",
      "\n",
      "The result of the arithmetic expression \\(5 + 6 \\times 7 - 13\\) is calculated as follows:\n",
      "\n",
      "1. **Multiplication first**: \\(6 \\times 7 = 42\\)\n",
      "2. **Addition**: \\(5 + 42 = 47\\)\n",
      "3. **Subtraction**: \\(47 - 13 = 34\\)\n",
      "\n",
      "**Answer:** 34\n",
      "<class 'langchain_core.messages.ai.AIMessage'>\n"
     ]
    }
   ],
   "source": [
    "for i in response:\n",
    "    if str(type(i))==\"<class 'langchain_core.messages.ai.AIMessage'>\" or str(type(i))==\"<class 'langchain_core.messages.tool.ToolMessage'>\":\n",
    "        print(i.pretty_repr())\n",
    "    print(type(i))"
   ]
  },
  {
   "cell_type": "code",
   "execution_count": 27,
   "metadata": {},
   "outputs": [],
   "source": [
    "def prettu(response):\n",
    "    return response[\"messages\"][2]\n",
    "k=prettu(response)\n"
   ]
  },
  {
   "cell_type": "code",
   "execution_count": 36,
   "metadata": {},
   "outputs": [],
   "source": [
    "k=response[\"messages\"][1].pretty_repr()"
   ]
  },
  {
   "cell_type": "code",
   "execution_count": null,
   "metadata": {},
   "outputs": [],
   "source": []
  },
  {
   "cell_type": "code",
   "execution_count": 22,
   "metadata": {},
   "outputs": [
    {
     "name": "stdout",
     "output_type": "stream",
     "text": [
      "None\n"
     ]
    }
   ],
   "source": [
    "print(k)"
   ]
  },
  {
   "cell_type": "code",
   "execution_count": 4,
   "metadata": {},
   "outputs": [
    {
     "ename": "TypeError",
     "evalue": "'module' object is not callable",
     "output_type": "error",
     "traceback": [
      "\u001b[1;31m---------------------------------------------------------------------------\u001b[0m",
      "\u001b[1;31mTypeError\u001b[0m                                 Traceback (most recent call last)",
      "Cell \u001b[1;32mIn[4], line 2\u001b[0m\n\u001b[0;32m      1\u001b[0m \u001b[38;5;28;01mfrom\u001b[39;00m\u001b[38;5;250m \u001b[39m\u001b[38;5;21;01mlangsmith_file\u001b[39;00m\u001b[38;5;250m \u001b[39m\u001b[38;5;28;01mimport\u001b[39;00m openai_agent\n\u001b[1;32m----> 2\u001b[0m agent\u001b[38;5;241m=\u001b[39m\u001b[43mopenai_agent\u001b[49m\u001b[43m(\u001b[49m\u001b[43m)\u001b[49m\n\u001b[0;32m      3\u001b[0m agent\n",
      "\u001b[1;31mTypeError\u001b[0m: 'module' object is not callable"
     ]
    }
   ],
   "source": [
    "from langsmith_file import openai_agent\n",
    "agent=openai_agent()\n",
    "agent"
   ]
  },
  {
   "cell_type": "code",
   "execution_count": 2,
   "metadata": {},
   "outputs": [],
   "source": [
    "from AI_coding_assistence.coding_assistance import coding_assistance\n",
    "graph=coding_assistance()\n",
    "chain=graph.graph()"
   ]
  },
  {
   "cell_type": "code",
   "execution_count": null,
   "metadata": {},
   "outputs": [],
   "source": [
    "# from IPython.display import Image, display\n",
    "\n",
    "# chain=graph.graph()\n",
    "# display(Image(chain.get_graph().draw_mermaid_png()))"
   ]
  },
  {
   "cell_type": "code",
   "execution_count": 3,
   "metadata": {},
   "outputs": [
    {
     "name": "stdout",
     "output_type": "stream",
     "text": [
      "# check_language \n",
      " python\n",
      "# problem_statement_maker \n",
      " Certainly! Here's a problem statement for a code task that revolves around determining whether a given input is a palindrome:\n",
      "\n",
      "---\n",
      "\n",
      "### Problem Statement\n",
      "\n",
      "A palindrome is a string that reads the same backward as forward. For example, \"madam\" and \"racecar\" are palindromes. Your task is to write a function that takes a single string as input and determines whether the string is a palindrome. The function should ignore any differences in case (i.e., it should treat uppercase and lowercase letters as equivalent) and should only consider alphanumeric characters (i.e., it should ignore any non-alphanumeric characters).\n",
      "\n",
      "**Input:**\n",
      "- A single string `s` (1 ≤ |s| ≤ 10^4), where |s| denotes the length of the string. The string `s` may contain uppercase and lowercase letters, digits, and non-alphanumeric characters.\n",
      "\n",
      "**Output:**\n",
      "- Return `true` if the given string `s` is a palindrome according to the criteria specified above, and `false` otherwise.\n",
      "\n",
      "**Examples:**\n",
      "- If `s = \"A man, a plan, a canal: Panama\"`, the function should return `true`.\n",
      "- If `s = \"race a car\"`, the function should return `false`.\n",
      "\n",
      "---\n",
      "\n",
      "This problem statement provides clear guidelines for the task, including the definition of a palindrome, the conditions to be considered (case insensitivity and ignoring non-alphanumeric characters), and examples for better understanding.\n",
      "# test_cases \n",
      " Sure, here are 5 test cases designed to thoroughly check the functionality of the code for determining palindromes, covering a variety of edge cases:\n",
      "\n",
      "### Test Case 1:\n",
      "- **Input:** \"A man, a plan, a canal: Panama\"\n",
      "- **Output:** `true`\n",
      "- **Explanation:** This test case checks if the function correctly identifies a palindrome that includes spaces, commas, and colons, as well as both uppercase and lowercase letters.\n",
      "\n",
      "### Test Case 2:\n",
      "- **Input:** \"race a car\"\n",
      "- **Output:** `false`\n",
      "- **Explanation:** This test case checks if the function correctly identifies a string that is not a palindrome, even when the string contains spaces and is close to being a palindrome.\n",
      "\n",
      "### Test Case 3:\n",
      "- **Input:** \"Was it a car or a cat I saw?\"\n",
      "- **Output:** `true`\n",
      "- **Explanation:** This test case checks if the function correctly identifies a palindrome with mixed case letters and punctuation, including question marks.\n",
      "\n",
      "### Test Case 4:\n",
      "- **Input:** \"No 'x' in Nixon\"\n",
      "- **Output:** `true`\n",
      "- **Explanation:** This test case checks if the function can handle strings containing single quotes and recognizes a palindrome with distinct characters.\n",
      "\n",
      "### Test Case 5:\n",
      "- **Input:** \"1234567890\"\n",
      "- **Output:** `false`\n",
      "- **Explanation:** This test case checks if the function correctly identifies a string that contains only numbers and is not a palindrome, ensuring that the alphanumeric characters are correctly processed.\n",
      "\n",
      "These test cases are designed to ensure the function not only works with typical palindrome examples but also handles edge cases involving special characters and mixed-case letters effectively.\n",
      "# check_language \n",
      " python\n",
      "# problem_statement_maker \n",
      " Certainly! Here's a problem statement designed for a problem involving calculating factorials:\n",
      "\n",
      "---\n",
      "\n",
      "**Problem Statement:**\n",
      "\n",
      "In mathematics, the factorial of a non-negative integer \\( n \\) is the product of all positive integers less than or equal to \\( n \\). It is denoted by \\( n! \\). For example, the factorial of 5 (denoted as 5!) is calculated as \\( 5 \\times 4 \\times 3 \\times 2 \\times 1 = 120 \\). By definition, the factorial of 0 is 1.\n",
      "\n",
      "**Task:**\n",
      "\n",
      "Write a program that takes a non-negative integer \\( n \\) as input and calculates the factorial of \\( n \\). Your program should be able to handle inputs up to 100 and output the factorial result.\n",
      "\n",
      "**Input:**\n",
      "\n",
      "- A single line containing an integer \\( n \\) (\\( 0 \\leq n \\leq 100 \\)).\n",
      "\n",
      "**Output:**\n",
      "\n",
      "- A single line containing the factorial of \\( n \\).\n",
      "\n",
      "**Example:**\n",
      "\n",
      "```\n",
      "Input:\n",
      "5\n",
      "\n",
      "Output:\n",
      "120\n",
      "```\n",
      "\n",
      "**Note:**\n",
      "\n",
      "- Ensure your solution is efficient and accurate for the given constraints.\n",
      "- Consider the potential for large numbers, as the factorial grows very quickly.\n",
      "\n",
      "---\n",
      "\n",
      "This problem statement provides clear guidelines and constraints, making it suitable for use in programming contests, assignments, or practice sessions.\n",
      "# test_cases \n",
      " Certainly, here are five test cases designed to cover a range of scenarios, including edge cases and complex inputs, adhering to the given format:\n",
      "\n",
      "1. **Test case 1:**\n",
      "   - input: `0`\n",
      "   - output: `1`\n",
      "   - explanation: This tests the edge case where the input is 0, which should result in a factorial of 1.\n",
      "\n",
      "2. **Test case 2:**\n",
      "   - input: `1`\n",
      "   - output: `1`\n",
      "   - explanation: This tests the scenario where the input is the smallest positive integer, which should still result in a factorial of 1.\n",
      "\n",
      "3. **Test case 3:**\n",
      "   - input: `5`\n",
      "   - output: `120`\n",
      "   - explanation: This is a standard case to ensure the algorithm works for a small, typical input.\n",
      "\n",
      "4. **Test case 4:**\n",
      "   - input: `20`\n",
      "   - output: `2432902008176640000`\n",
      "   - explanation: This tests a larger number to ensure the algorithm can handle more complex calculations and large numbers accurately.\n",
      "\n",
      "5. **Test case 5:**\n",
      "   - input: `100`\n",
      "   - output: `93326215443944152681699238856266700490715968264381621468592963895217599993229915608941463976156518286253697920827223758251185210916864000000000000000000000000`\n",
      "   - explanation: This tests the upper limit of the input range specified in the problem statement, ensuring the algorithm can handle very large numbers and that its output matches the correct factorial of 100, which is a large number with many digits.\n",
      "# check_language \n",
      " python\n",
      "# problem_statement_maker \n",
      " Certainly! Here's a problem statement for a task related to prime numbers:\n",
      "\n",
      "---\n",
      "\n",
      "**Problem Statement: Prime Number Identification**\n",
      "\n",
      "You are tasked with developing a program that determines whether a given number is a prime number or not. A prime number is defined as a natural number greater than 1 that has no positive divisors other than 1 and itself. Your program should accept an integer input from the user and output a message indicating whether the input number is a prime number or not. The program should handle all integers within the range of 2 to 1,000,000, and provide clear and informative output. Additionally, the program should be efficient in its computation to handle the upper limit of the range within a reasonable time frame.\n",
      "\n",
      "**Input:**\n",
      "- An integer `N` where `2 ≤ N ≤ 1,000,000`.\n",
      "\n",
      "**Output:**\n",
      "- A message stating whether `N` is a prime number or not. The output should be in the format:\n",
      "  - \"The number [N] is a prime number.\"\n",
      "  - \"The number [N] is not a prime number.\"\n",
      "\n",
      "**Example:**\n",
      "- Given `N = 23`, the program should output: \"The number 23 is a prime number.\"\n",
      "- Given `N = 27`, the program should output: \"The number 27 is not a prime number.\"\n",
      "\n",
      "**Constraints:**\n",
      "- The solution must be able to efficiently determine the primality of numbers up to 1,000,000.\n",
      "- The program should handle invalid inputs gracefully and provide appropriate error messages.\n",
      "\n",
      "---\n",
      "\n",
      "This problem statement provides a clear and concise description of the task, including the input and output requirements, as well as constraints to guide the implementation.\n",
      "# test_cases \n",
      " Sure, here are five test cases that cover a range of scenarios, including edge cases and typical cases, for the prime number identification problem:\n",
      "\n",
      "**Test case 1:**\n",
      "- **Input:** 2\n",
      "- **Output:** \"The number 2 is a prime number.\"\n",
      "- **Explanation:** 2 is the smallest prime number and is the only even prime number, making it an important edge case.\n",
      "\n",
      "**Test case 2:**\n",
      "- **Input:** 1\n",
      "- **Output:** \"The number 1 is not a prime number.\"\n",
      "- **Explanation:** 1 is not considered a prime number by definition, as it has only one positive divisor, which is itself. This is a critical edge case to handle correctly.\n",
      "\n",
      "**Test case 3:**\n",
      "- **Input:** 999983\n",
      "- **Output:** \"The number 999983 is a prime number.\"\n",
      "- **Explanation:** This is a large prime number close to the upper limit (1,000,000) and tests the efficiency and accuracy of the algorithm for large prime numbers.\n",
      "\n",
      "**Test case 4:**\n",
      "- **Input:** 104729\n",
      "- **Output:** \"The number 104729 is not a prime number.\"\n",
      "- **Explanation:** 104729 is a composite number close to a prime number, which can help verify the accuracy of the algorithm in distinguishing close numbers.\n",
      "\n",
      "**Test case 5:**\n",
      "- **Input:** 46340\n",
      "- **Output:** \"The number 46340 is not a prime number.\"\n",
      "- **Explanation:** This number is chosen to test the algorithm's performance and accuracy in handling numbers that are neither too small nor too large, ensuring it can correctly identify non-prime numbers efficiently.\n",
      "\n",
      "These test cases cover a variety of scenarios, from the smallest edge case (1 and 2) to a large prime and a composite number near a prime, ensuring comprehensive testing of the prime number identification program.\n",
      "# code_prompt_condition \n",
      " Prompt\n",
      "# generate code \n",
      " Sure, let's create a Python program based on the problem statement provided. This program will include a function to check if a number is prime and will handle user input to provide the appropriate message.\n",
      "\n",
      "Here's the Python code:\n",
      "\n",
      "```python\n",
      "def is_prime(n):\n",
      "    \"\"\"Check if a number is a prime number.\"\"\"\n",
      "    if n <= 1:\n",
      "        return False\n",
      "    if n <= 3:\n",
      "        return True\n",
      "    if n % 2 == 0 or n % 3 == 0:\n",
      "        return False\n",
      "    i = 5\n",
      "    while i * i <= n:\n",
      "        if n % i == 0 or n % (i + 2) == 0:\n",
      "            return False\n",
      "        i += 6\n",
      "    return True\n",
      "\n",
      "def main():\n",
      "    try:\n",
      "        # Get the number from the user\n",
      "        num = int(input(\"Enter a number between 2 and 1,000,000: \"))\n",
      "        \n",
      "        # Check if the number is within the allowed range\n",
      "        if num < 2 or num > 1_000_000:\n",
      "            print(\"Please enter a number within the range of 2 to 1,000,000.\")\n",
      "            return\n",
      "        \n",
      "        # Check if the number is prime\n",
      "        if is_prime(num):\n",
      "            print(f\"The number {num} is a prime number.\")\n",
      "        else:\n",
      "            print(f\"The number {num} is not a prime number.\")\n",
      "    except ValueError:\n",
      "        print(\"Invalid input! Please enter a valid integer.\")\n",
      "\n",
      "if __name__ == \"__main__\":\n",
      "    main()\n",
      "```\n",
      "\n",
      "### Explanation:\n",
      "1. **is_prime Function**: This function checks whether a given number `n` is a prime number. It uses a simple algorithm that skips even numbers after checking for divisibility by 2 and 3, and then checks for factors up to the square root of `n`, which is a common optimization for prime checking.\n",
      "\n",
      "2. **main Function**: This function handles the user interaction. It prompts the user for input, checks if the input is within the specified range, and then uses the `is_prime` function to determine if the input number is prime, outputting the appropriate message.\n",
      "\n",
      "3. **Error Handling**: The program includes basic error handling to catch non-integer inputs and values outside the specified range.\n",
      "\n",
      "This program meets the requirements specified in the problem statement, providing a clear and efficient solution for determining if a number is prime within the given constraints.\n",
      "# polish_code + no failed test cases\n",
      "\n",
      "The provided code correctly implements the prime number checking logic as per the problem statement. It efficiently checks for primality up to 1,000,000 and handles input validation, including ensuring the number is within the specified range and catching non-integer inputs. The given code should not fail for any valid input within the defined constraints.\n",
      "# review_code \n",
      " perfect\n",
      "# test_code \n",
      " Pass\n",
      "False\n"
     ]
    },
    {
     "data": {
      "text/plain": [
       "'programming Assistance:\\n\\n'"
      ]
     },
     "execution_count": 3,
     "metadata": {},
     "output_type": "execute_result"
    }
   ],
   "source": [
    "thread=\"92\"\n",
    "update=\"\"\n",
    "request={\"initial_input\":input(),\"thread_id\":thread,\"update\":\"None\",\"documentation\":\"None\"}\n",
    "\n",
    "graph.response(request)\n",
    "\n",
    "while(update.lower() not in [\"ok\",\"yes\",\"y\"]):\n",
    "    update=input()\n",
    "\n",
    "    request={\"initial_input\":request.get(\"initial_input\"),\"update\":update,\"documentation\":\"None\",\"thread_id\":thread}\n",
    "\n",
    "    graph.response(request)\n",
    "\n",
    "request={\"initial_input\":request.get(\"initial_input\"),\"update\":request.get(\"update\"),\"documentation\":input(),\"thread_id\":thread}\n",
    "\n",
    "graph.response(request)"
   ]
  },
  {
   "cell_type": "code",
   "execution_count": null,
   "metadata": {},
   "outputs": [
    {
     "name": "stdout",
     "output_type": "stream",
     "text": [
      "ok\n",
      "# check_language \n",
      " python\n",
      "# problem_statement_maker \n",
      " Certainly, here is a problem statement formulated around the concept of checking for palindromes, based on your request:\n",
      "\n",
      "---\n",
      "\n",
      "**Problem Statement:**\n",
      "\n",
      "A palindrome is a string that reads the same backward as forward. For example, \"radar\", \"madam\", and \"racecar\" are palindromes. Your task is to write a function that determines if a given string is a palindrome. The function should take a single string as input and return a boolean value indicating whether the string is a palindrome.\n",
      "\n",
      "- **Input:** A string `s` consisting of lowercase and/or uppercase letters and possibly non-letter characters.\n",
      "- **Output:** A boolean value `true` if the string `s` is a palindrome, and `false` otherwise.\n",
      "\n",
      "**Note:** For the purpose of this problem, you should ignore case sensitivity, meaning \"Racecar\" should be considered a palindrome. However, the solution should not alter the original string's case sensitivity when checking for the palindrome.\n",
      "\n",
      "**Examples:**\n",
      "1. `isPalindrome(\"racecar\")` should return `true`.\n",
      "2. `isPalindrome(\"RaceCar\")` should return `true`.\n",
      "3. `isPalindrome(\"hello\")` should return `false`.\n",
      "4. `isPalindrome(\"A man, a plan, a canal, Panama\")` should return `false` because the function should only consider the string as a whole and not ignore non-letter characters unless specified differently in the problem statement.\n",
      "\n",
      "---\n",
      "\n",
      "This problem statement provides a clear and concise description of the task, including input and output specifications, and examples to clarify the expectations.\n",
      "# test_cases \n",
      " Sure, here are five test cases for the problem statement provided, designed to test various edge cases and complexities:\n",
      "\n",
      "1. **Test case 1:**\n",
      "   - input: \"racecar\"\n",
      "   - output: true\n",
      "   - explanation: This is a straightforward case where the input is a known palindrome, and the function should return `true`.\n",
      "\n",
      "2. **Test case 2:**\n",
      "   - input: \"A man, a plan, a canal, Panama\"\n",
      "   - output: false\n",
      "   - explanation: The problem statement specifies that the function should not ignore non-letter characters. Thus, the function should return `false`, as it considers the string in its entirety, including commas and spaces.\n",
      "\n",
      "3. **Test case 3:**\n",
      "   - input: \"12321\"\n",
      "   - output: true\n",
      "   - explanation: This test case checks for numeric palindromes, which are valid palindromes. The function should return `true`.\n",
      "\n",
      "4. **Test case 4:**\n",
      "   - input: \"Madam, in Eden, I'm Adam\"\n",
      "   - output: false\n",
      "   - explanation: This is a classic palindrome phrase but includes spaces and a comma. The function should return `false` since it should not ignore non-letter characters and the case sensitivity is not to be altered for the palindrome check.\n",
      "\n",
      "5. **Test case 5:**\n",
      "   - input: \"Was it a car or a cat I saw?\"\n",
      "   - output: false\n",
      "   - explanation: This test case checks the function's ability to handle a palindrome phrase with various spaces and punctuation. The function should return `false` since it should strictly consider the string as a whole without ignoring non-letter characters or spaces.\n",
      "\n",
      "These test cases aim to cover a variety of scenarios including standard palindromes, numeric palindromes, and palindromes with spaces and punctuation, testing the function's strictness as per the problem statement.\n"
     ]
    },
    {
     "ename": "KeyError",
     "evalue": "'output'",
     "output_type": "error",
     "traceback": [
      "\u001b[1;31m---------------------------------------------------------------------------\u001b[0m",
      "\u001b[1;31mKeyError\u001b[0m                                  Traceback (most recent call last)",
      "Cell \u001b[1;32mIn[5], line 3\u001b[0m\n\u001b[0;32m      1\u001b[0m request\u001b[38;5;241m=\u001b[39m{\u001b[38;5;124m\"\u001b[39m\u001b[38;5;124minitial_input\u001b[39m\u001b[38;5;124m\"\u001b[39m:request\u001b[38;5;241m.\u001b[39mget(\u001b[38;5;124m\"\u001b[39m\u001b[38;5;124minitial_input\u001b[39m\u001b[38;5;124m\"\u001b[39m),\u001b[38;5;124m\"\u001b[39m\u001b[38;5;124mupdate\u001b[39m\u001b[38;5;124m\"\u001b[39m:request\u001b[38;5;241m.\u001b[39mget(\u001b[38;5;124m\"\u001b[39m\u001b[38;5;124mupdate\u001b[39m\u001b[38;5;124m\"\u001b[39m),\u001b[38;5;124m\"\u001b[39m\u001b[38;5;124mdocumentation\u001b[39m\u001b[38;5;124m\"\u001b[39m:\u001b[38;5;28minput\u001b[39m(),\u001b[38;5;124m\"\u001b[39m\u001b[38;5;124mthread_id\u001b[39m\u001b[38;5;124m\"\u001b[39m:thread}\n\u001b[1;32m----> 3\u001b[0m \u001b[43mgraph\u001b[49m\u001b[38;5;241;43m.\u001b[39;49m\u001b[43mresponse\u001b[49m\u001b[43m(\u001b[49m\u001b[43mrequest\u001b[49m\u001b[43m)\u001b[49m\n",
      "File \u001b[1;32mc:\\Users\\Chinnnolla Koteshwar\\Downloads\\agentic_ai_apps\\AI_coding_assistence\\coding_assistance.py:137\u001b[0m, in \u001b[0;36mcoding_assistance.response\u001b[1;34m(self, chat_request)\u001b[0m\n\u001b[0;32m    133\u001b[0m     \u001b[38;5;28;01mfor\u001b[39;00m event \u001b[38;5;129;01min\u001b[39;00m \u001b[38;5;28mself\u001b[39m\u001b[38;5;241m.\u001b[39mchain\u001b[38;5;241m.\u001b[39mstream(stream_input, thread, stream_mode\u001b[38;5;241m=\u001b[39m\u001b[38;5;124m\"\u001b[39m\u001b[38;5;124mvalues\u001b[39m\u001b[38;5;124m\"\u001b[39m):\n\u001b[0;32m    134\u001b[0m         event_arr\u001b[38;5;241m.\u001b[39mappend(event)\n\u001b[1;32m--> 137\u001b[0m     res\u001b[38;5;241m+\u001b[39m\u001b[38;5;241m=\u001b[39m\u001b[43mevent_arr\u001b[49m\u001b[43m[\u001b[49m\u001b[38;5;241;43m-\u001b[39;49m\u001b[38;5;241;43m1\u001b[39;49m\u001b[43m]\u001b[49m\u001b[43m[\u001b[49m\u001b[38;5;124;43m\"\u001b[39;49m\u001b[38;5;124;43moutput\u001b[39;49m\u001b[38;5;124;43m\"\u001b[39;49m\u001b[43m]\u001b[49m\u001b[38;5;241m+\u001b[39mevent_arr[\u001b[38;5;241m-\u001b[39m\u001b[38;5;241m1\u001b[39m][\u001b[38;5;124m\"\u001b[39m\u001b[38;5;124mfinal_report\u001b[39m\u001b[38;5;124m\"\u001b[39m]\n\u001b[0;32m    139\u001b[0m \u001b[38;5;28;01melif\u001b[39;00m update\u001b[38;5;241m.\u001b[39mlower() \u001b[38;5;129;01min\u001b[39;00m [\u001b[38;5;124m\"\u001b[39m\u001b[38;5;124mstop\u001b[39m\u001b[38;5;124m\"\u001b[39m, \u001b[38;5;124m\"\u001b[39m\u001b[38;5;124mend\u001b[39m\u001b[38;5;124m\"\u001b[39m, \u001b[38;5;124m\"\u001b[39m\u001b[38;5;124mno\u001b[39m\u001b[38;5;124m\"\u001b[39m]:\n\u001b[0;32m    140\u001b[0m     stream_input \u001b[38;5;241m=\u001b[39m {\u001b[38;5;124m\"\u001b[39m\u001b[38;5;124mstop\u001b[39m\u001b[38;5;124m\"\u001b[39m: \u001b[38;5;124m\"\u001b[39m\u001b[38;5;124mstop\u001b[39m\u001b[38;5;124m\"\u001b[39m}\n",
      "\u001b[1;31mKeyError\u001b[0m: 'output'"
     ]
    }
   ],
   "source": [
    "request={\"initial_input\":request.get(\"initial_input\"),\"update\":request.get(\"update\"),\"documentation\":input(),\"thread_id\":thread}\n",
    "\n",
    "graph.response(request)"
   ]
  }
 ],
 "metadata": {
  "kernelspec": {
   "display_name": "Python 3",
   "language": "python",
   "name": "python3"
  },
  "language_info": {
   "codemirror_mode": {
    "name": "ipython",
    "version": 3
   },
   "file_extension": ".py",
   "mimetype": "text/x-python",
   "name": "python",
   "nbconvert_exporter": "python",
   "pygments_lexer": "ipython3",
   "version": "3.12.9"
  }
 },
 "nbformat": 4,
 "nbformat_minor": 2
}
