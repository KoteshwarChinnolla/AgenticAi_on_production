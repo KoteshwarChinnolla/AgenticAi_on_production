{
 "cells": [
  {
   "cell_type": "code",
   "execution_count": 13,
   "metadata": {},
   "outputs": [],
   "source": [
    "from tools import tools\n",
    "methods = [method for method in tools.__dict__ if callable(tools.__dict__[method])]"
   ]
  },
  {
   "cell_type": "code",
   "execution_count": 14,
   "metadata": {},
   "outputs": [
    {
     "data": {
      "text/plain": [
       "['add', 'Subtract', 'multiply', 'divide']"
      ]
     },
     "execution_count": 14,
     "metadata": {},
     "output_type": "execute_result"
    }
   ],
   "source": [
    "methods"
   ]
  },
  {
   "cell_type": "code",
   "execution_count": 2,
   "metadata": {},
   "outputs": [
    {
     "data": {
      "text/plain": [
       "'My age is 20.'"
      ]
     },
     "execution_count": 2,
     "metadata": {},
     "output_type": "execute_result"
    }
   ],
   "source": [
    "from a_info_model import gen_info\n",
    "graph=gen_info()\n",
    "message=\"what is your age\"\n",
    "graph.response(message,\"koti\",\"12\")"
   ]
  },
  {
   "cell_type": "code",
   "execution_count": 1,
   "metadata": {},
   "outputs": [],
   "source": [
    "from toolcallinglm import build_graph\n",
    "from pprint import pprint\n",
    "graph=build_graph()\n",
    "message=input()\n",
    "response=graph.response(message,\"user\",\"1\")\n"
   ]
  },
  {
   "cell_type": "code",
   "execution_count": 2,
   "metadata": {},
   "outputs": [
    {
     "data": {
      "text/plain": [
       "'\\n\\n{\"a\": 5, \"b\": 3} \\n\\n multiply\\n\\n{\"a\": 15, \"b\": 96} \\n\\n multiply\\n\\n{\"a\": 20, \"b\": 1440} \\n\\n add\\n\\n1460\\n\\n\\nThe result of the expression 20+5*3*96 is 1460.'"
      ]
     },
     "execution_count": 2,
     "metadata": {},
     "output_type": "execute_result"
    }
   ],
   "source": [
    "response"
   ]
  },
  {
   "cell_type": "code",
   "execution_count": 8,
   "metadata": {},
   "outputs": [
    {
     "name": "stdout",
     "output_type": "stream",
     "text": [
      "================================\u001b[1m Human Message \u001b[0m=================================\n",
      "Name: user\n",
      "\n",
      "20+5*3*96\n",
      "==================================\u001b[1m Ai Message \u001b[0m==================================\n",
      "Tool Calls:\n",
      "  multiply (call_a7dh)\n",
      " Call ID: call_a7dh\n",
      "  Args:\n",
      "    a: 5\n",
      "    b: 3\n",
      "  multiply (call_ggrv)\n",
      " Call ID: call_ggrv\n",
      "  Args:\n",
      "    a: 15\n",
      "    b: 96\n",
      "  add (call_t7dh)\n",
      " Call ID: call_t7dh\n",
      "  Args:\n",
      "    a: 20\n",
      "    b: 1440\n",
      "=================================\u001b[1m Tool Message \u001b[0m=================================\n",
      "Name: add\n",
      "\n",
      "1460\n",
      "==================================\u001b[1m Ai Message \u001b[0m==================================\n",
      "\n",
      "The result of the expression 20+5*3*96 is 1460.\n"
     ]
    }
   ],
   "source": [
    "for event in response:\n",
    "    event['messages'][-1].pretty_print()"
   ]
  },
  {
   "cell_type": "code",
   "execution_count": 3,
   "metadata": {},
   "outputs": [],
   "source": [
    "last_chat=[]\n",
    "for event in response:\n",
    "    last_chat.append(event[\"messages\"][-1])"
   ]
  },
  {
   "cell_type": "code",
   "execution_count": null,
   "metadata": {},
   "outputs": [
    {
     "data": {
      "text/plain": [
       "[HumanMessage(content='20+5*3*96', additional_kwargs={}, response_metadata={}, name='user', id='e869b446-720b-43d0-8254-2ba472b57037'),\n",
       " AIMessage(content='', additional_kwargs={'tool_calls': [{'id': 'call_dnd2', 'function': {'arguments': '{\"a\": 5, \"b\": 3}', 'name': 'multiply'}, 'type': 'function'}, {'id': 'call_nw66', 'function': {'arguments': '{\"a\": 15, \"b\": 96}', 'name': 'multiply'}, 'type': 'function'}, {'id': 'call_4y6c', 'function': {'arguments': '{\"a\": 20, \"b\": 1440}', 'name': 'add'}, 'type': 'function'}]}, response_metadata={'token_usage': {'completion_tokens': 147, 'prompt_tokens': 422, 'total_tokens': 569, 'completion_time': 0.735, 'prompt_time': 0.021974873, 'queue_time': 0.23801418400000002, 'total_time': 0.756974873}, 'model_name': 'qwen-2.5-32b', 'system_fingerprint': 'fp_35f92f8282', 'finish_reason': 'tool_calls', 'logprobs': None}, id='run-af3dd310-af73-4fd4-a266-3090e729a025-0', tool_calls=[{'name': 'multiply', 'args': {'a': 5, 'b': 3}, 'id': 'call_dnd2', 'type': 'tool_call'}, {'name': 'multiply', 'args': {'a': 15, 'b': 96}, 'id': 'call_nw66', 'type': 'tool_call'}, {'name': 'add', 'args': {'a': 20, 'b': 1440}, 'id': 'call_4y6c', 'type': 'tool_call'}], usage_metadata={'input_tokens': 422, 'output_tokens': 147, 'total_tokens': 569}),\n",
       " ToolMessage(content='1460', name='add', id='efd5b0b0-bd77-473a-9e75-33afac9f46a8', tool_call_id='call_4y6c'),\n",
       " AIMessage(content='The result of the expression 20+5*3*96 is 1460.', additional_kwargs={}, response_metadata={'token_usage': {'completion_tokens': 23, 'prompt_tokens': 557, 'total_tokens': 580, 'completion_time': 0.115, 'prompt_time': 0.028677013, 'queue_time': 0.23776853299999998, 'total_time': 0.143677013}, 'model_name': 'qwen-2.5-32b', 'system_fingerprint': 'fp_35f92f8282', 'finish_reason': 'stop', 'logprobs': None}, id='run-ec70520e-d75e-4731-8226-d07902c5ba33-0', usage_metadata={'input_tokens': 557, 'output_tokens': 23, 'total_tokens': 580})]"
      ]
     },
     "execution_count": 4,
     "metadata": {},
     "output_type": "execute_result"
    }
   ],
   "source": [
    "for i in last_chat:\n",
    "    "
   ]
  },
  {
   "cell_type": "code",
   "execution_count": 5,
   "metadata": {},
   "outputs": [],
   "source": [
    "AI_message=[i for i in last_chat if str(type(i))==\"<class 'langchain_core.messages.ai.AIMessage'>\"]\n",
    "Tool_message=[i for i in last_chat if str(type(i))==\"<class 'langchain_core.messages.tool.ToolMessage'>\"]"
   ]
  },
  {
   "cell_type": "code",
   "execution_count": 6,
   "metadata": {},
   "outputs": [
    {
     "data": {
      "text/plain": [
       "[AIMessage(content='', additional_kwargs={'tool_calls': [{'id': 'call_dnd2', 'function': {'arguments': '{\"a\": 5, \"b\": 3}', 'name': 'multiply'}, 'type': 'function'}, {'id': 'call_nw66', 'function': {'arguments': '{\"a\": 15, \"b\": 96}', 'name': 'multiply'}, 'type': 'function'}, {'id': 'call_4y6c', 'function': {'arguments': '{\"a\": 20, \"b\": 1440}', 'name': 'add'}, 'type': 'function'}]}, response_metadata={'token_usage': {'completion_tokens': 147, 'prompt_tokens': 422, 'total_tokens': 569, 'completion_time': 0.735, 'prompt_time': 0.021974873, 'queue_time': 0.23801418400000002, 'total_time': 0.756974873}, 'model_name': 'qwen-2.5-32b', 'system_fingerprint': 'fp_35f92f8282', 'finish_reason': 'tool_calls', 'logprobs': None}, id='run-af3dd310-af73-4fd4-a266-3090e729a025-0', tool_calls=[{'name': 'multiply', 'args': {'a': 5, 'b': 3}, 'id': 'call_dnd2', 'type': 'tool_call'}, {'name': 'multiply', 'args': {'a': 15, 'b': 96}, 'id': 'call_nw66', 'type': 'tool_call'}, {'name': 'add', 'args': {'a': 20, 'b': 1440}, 'id': 'call_4y6c', 'type': 'tool_call'}], usage_metadata={'input_tokens': 422, 'output_tokens': 147, 'total_tokens': 569}),\n",
       " AIMessage(content='The result of the expression 20+5*3*96 is 1460.', additional_kwargs={}, response_metadata={'token_usage': {'completion_tokens': 23, 'prompt_tokens': 557, 'total_tokens': 580, 'completion_time': 0.115, 'prompt_time': 0.028677013, 'queue_time': 0.23776853299999998, 'total_time': 0.143677013}, 'model_name': 'qwen-2.5-32b', 'system_fingerprint': 'fp_35f92f8282', 'finish_reason': 'stop', 'logprobs': None}, id='run-ec70520e-d75e-4731-8226-d07902c5ba33-0', usage_metadata={'input_tokens': 557, 'output_tokens': 23, 'total_tokens': 580})]"
      ]
     },
     "execution_count": 6,
     "metadata": {},
     "output_type": "execute_result"
    }
   ],
   "source": [
    "AI_message"
   ]
  },
  {
   "cell_type": "code",
   "execution_count": 9,
   "metadata": {},
   "outputs": [
    {
     "data": {
      "text/plain": [
       "[ToolMessage(content='1460', name='add', id='efd5b0b0-bd77-473a-9e75-33afac9f46a8', tool_call_id='call_4y6c')]"
      ]
     },
     "execution_count": 9,
     "metadata": {},
     "output_type": "execute_result"
    }
   ],
   "source": [
    "Tool_message"
   ]
  },
  {
   "cell_type": "code",
   "execution_count": 21,
   "metadata": {},
   "outputs": [],
   "source": [
    "tool_content=\"\"\n",
    "for i in Tool_message:\n",
    "    tool_content=i.content+\"\\n\"\n",
    "process=\"\"\n",
    "\n",
    "if len(AI_message)>1:\n",
    "    tools_called=AI_message[-2].additional_kwargs[\"tool_calls\"]\n",
    "    for i in tools_called:\n",
    "        process+=\"\\n\\n\"+str(i[\"function\"][\"arguments\"] + \" \\n\\n \" + str(i[\"function\"][\"name\"]))\n",
    "\n",
    "AI_content=AI_message[-1].content\n",
    "\n",
    "final_content=process+\"\\n\\n\"+tool_content+\"\\n\\n\"+AI_content"
   ]
  },
  {
   "cell_type": "code",
   "execution_count": 16,
   "metadata": {},
   "outputs": [
    {
     "data": {
      "text/plain": [
       "[{'id': 'call_dnd2',\n",
       "  'function': {'arguments': '{\"a\": 5, \"b\": 3}', 'name': 'multiply'},\n",
       "  'type': 'function'},\n",
       " {'id': 'call_nw66',\n",
       "  'function': {'arguments': '{\"a\": 15, \"b\": 96}', 'name': 'multiply'},\n",
       "  'type': 'function'},\n",
       " {'id': 'call_4y6c',\n",
       "  'function': {'arguments': '{\"a\": 20, \"b\": 1440}', 'name': 'add'},\n",
       "  'type': 'function'}]"
      ]
     },
     "execution_count": 16,
     "metadata": {},
     "output_type": "execute_result"
    }
   ],
   "source": [
    "tools_called"
   ]
  },
  {
   "cell_type": "code",
   "execution_count": null,
   "metadata": {},
   "outputs": [
    {
     "data": {
      "text/plain": [
       "'\\n{\"a\": 5, \"b\": 3}\\nmultiply\\n{\"a\": 15, \"b\": 96}\\nmultiply\\n{\"a\": 20, \"b\": 1440}\\nadd'"
      ]
     },
     "execution_count": 17,
     "metadata": {},
     "output_type": "execute_result"
    }
   ],
   "source": [
    "process=\"\"\n",
    "for i in tools_called:\n",
    "    process+=\"\\n\"+str(i[\"function\"][\"arguments\"] + \"\\n\" + str(i[\"function\"][\"name\"]))\n",
    "process\n",
    "    "
   ]
  },
  {
   "cell_type": "code",
   "execution_count": 15,
   "metadata": {},
   "outputs": [
    {
     "data": {
      "text/plain": [
       "'\\n{\"a\": 5, \"b\": 3}\\n{\"a\": 15, \"b\": 96}\\n{\"a\": 20, \"b\": 1440}'"
      ]
     },
     "execution_count": 15,
     "metadata": {},
     "output_type": "execute_result"
    }
   ],
   "source": [
    "process"
   ]
  },
  {
   "cell_type": "code",
   "execution_count": 22,
   "metadata": {},
   "outputs": [
    {
     "data": {
      "text/plain": [
       "'<p>{\"a\": 5, \"b\": 3} </p>\\n\\n<p>multiply</p>\\n\\n<p>{\"a\": 15, \"b\": 96} </p>\\n\\n<p>multiply</p>\\n\\n<p>{\"a\": 20, \"b\": 1440} </p>\\n\\n<p>add</p>\\n\\n<p>1460</p>\\n\\n<p>The result of the expression 20+5<em>3</em>96 is 1460.</p>\\n'"
      ]
     },
     "execution_count": 22,
     "metadata": {},
     "output_type": "execute_result"
    }
   ],
   "source": [
    "import markdown2\n",
    "md = markdown2.Markdown()\n",
    "md.convert(final_content)"
   ]
  },
  {
   "cell_type": "code",
   "execution_count": 12,
   "metadata": {},
   "outputs": [
    {
     "data": {
      "text/plain": [
       "'<p>11 </p>\\n<p>The result of 5 + 6 - 1 is 10.</p>'"
      ]
     },
     "execution_count": 12,
     "metadata": {},
     "output_type": "execute_result"
    }
   ],
   "source": [
    "import markdown\n",
    "md = markdown.Markdown()\n",
    "md.convert(response)"
   ]
  },
  {
   "cell_type": "code",
   "execution_count": null,
   "metadata": {},
   "outputs": [],
   "source": []
  },
  {
   "cell_type": "code",
   "execution_count": 22,
   "metadata": {},
   "outputs": [],
   "source": [
    "response=response[\"messages\"][-2:]"
   ]
  },
  {
   "cell_type": "code",
   "execution_count": 23,
   "metadata": {},
   "outputs": [
    {
     "data": {
      "text/plain": [
       "[ToolMessage(content='42', name='multiply', id='08569243-de0f-4a17-a713-e39a3047f56c', tool_call_id='call_sd7g'),\n",
       " AIMessage(content='The result of the arithmetic expression \\\\(5 + 6 \\\\times 7 - 13\\\\) is calculated as follows:\\n\\n1. **Multiplication first**: \\\\(6 \\\\times 7 = 42\\\\)\\n2. **Addition**: \\\\(5 + 42 = 47\\\\)\\n3. **Subtraction**: \\\\(47 - 13 = 34\\\\)\\n\\n**Answer:** 34', additional_kwargs={}, response_metadata={'token_usage': {'completion_tokens': 234, 'prompt_tokens': 653, 'total_tokens': 887, 'completion_time': 0.850909091, 'prompt_time': 0.028493957, 'queue_time': 0.23649407899999997, 'total_time': 0.879403048}, 'model_name': 'DeepSeek-R1-Distill-Llama-70B', 'system_fingerprint': 'fp_492bd52206', 'finish_reason': 'stop', 'logprobs': None}, id='run-36b8b315-d633-44bf-819b-496718f7f2de-0', usage_metadata={'input_tokens': 653, 'output_tokens': 234, 'total_tokens': 887})]"
      ]
     },
     "execution_count": 23,
     "metadata": {},
     "output_type": "execute_result"
    }
   ],
   "source": [
    "response"
   ]
  },
  {
   "cell_type": "code",
   "execution_count": 24,
   "metadata": {},
   "outputs": [
    {
     "name": "stdout",
     "output_type": "stream",
     "text": [
      "================================= Tool Message =================================\n",
      "Name: multiply\n",
      "\n",
      "42\n",
      "<class 'langchain_core.messages.tool.ToolMessage'>\n",
      "================================== Ai Message ==================================\n",
      "\n",
      "The result of the arithmetic expression \\(5 + 6 \\times 7 - 13\\) is calculated as follows:\n",
      "\n",
      "1. **Multiplication first**: \\(6 \\times 7 = 42\\)\n",
      "2. **Addition**: \\(5 + 42 = 47\\)\n",
      "3. **Subtraction**: \\(47 - 13 = 34\\)\n",
      "\n",
      "**Answer:** 34\n",
      "<class 'langchain_core.messages.ai.AIMessage'>\n"
     ]
    }
   ],
   "source": [
    "for i in response:\n",
    "    if str(type(i))==\"<class 'langchain_core.messages.ai.AIMessage'>\" or str(type(i))==\"<class 'langchain_core.messages.tool.ToolMessage'>\":\n",
    "        print(i.pretty_repr())\n",
    "    print(type(i))"
   ]
  },
  {
   "cell_type": "code",
   "execution_count": 27,
   "metadata": {},
   "outputs": [],
   "source": [
    "def prettu(response):\n",
    "    return response[\"messages\"][2]\n",
    "k=prettu(response)\n"
   ]
  },
  {
   "cell_type": "code",
   "execution_count": 36,
   "metadata": {},
   "outputs": [],
   "source": [
    "k=response[\"messages\"][1].pretty_repr()"
   ]
  },
  {
   "cell_type": "code",
   "execution_count": null,
   "metadata": {},
   "outputs": [],
   "source": []
  },
  {
   "cell_type": "code",
   "execution_count": 22,
   "metadata": {},
   "outputs": [
    {
     "name": "stdout",
     "output_type": "stream",
     "text": [
      "None\n"
     ]
    }
   ],
   "source": [
    "print(k)"
   ]
  },
  {
   "cell_type": "code",
   "execution_count": 4,
   "metadata": {},
   "outputs": [
    {
     "ename": "TypeError",
     "evalue": "'module' object is not callable",
     "output_type": "error",
     "traceback": [
      "\u001b[1;31m---------------------------------------------------------------------------\u001b[0m",
      "\u001b[1;31mTypeError\u001b[0m                                 Traceback (most recent call last)",
      "Cell \u001b[1;32mIn[4], line 2\u001b[0m\n\u001b[0;32m      1\u001b[0m \u001b[38;5;28;01mfrom\u001b[39;00m\u001b[38;5;250m \u001b[39m\u001b[38;5;21;01mlangsmith_file\u001b[39;00m\u001b[38;5;250m \u001b[39m\u001b[38;5;28;01mimport\u001b[39;00m openai_agent\n\u001b[1;32m----> 2\u001b[0m agent\u001b[38;5;241m=\u001b[39m\u001b[43mopenai_agent\u001b[49m\u001b[43m(\u001b[49m\u001b[43m)\u001b[49m\n\u001b[0;32m      3\u001b[0m agent\n",
      "\u001b[1;31mTypeError\u001b[0m: 'module' object is not callable"
     ]
    }
   ],
   "source": [
    "from langsmith_file import openai_agent\n",
    "agent=openai_agent()\n",
    "agent"
   ]
  },
  {
   "cell_type": "code",
   "execution_count": 1,
   "metadata": {},
   "outputs": [],
   "source": [
    "from AI_coding_assistence.coding_assistance import coding_assistance\n",
    "graph=coding_assistance()\n",
    "chain=graph.graph()"
   ]
  },
  {
   "cell_type": "code",
   "execution_count": 2,
   "metadata": {},
   "outputs": [],
   "source": [
    "# from IPython.display import Image, display\n",
    "\n",
    "# chain=graph.graph()\n",
    "# display(Image(chain.get_graph().draw_mermaid_png()))"
   ]
  },
  {
   "cell_type": "code",
   "execution_count": null,
   "metadata": {},
   "outputs": [
    {
     "name": "stdout",
     "output_type": "stream",
     "text": [
      "# check_language \n",
      " python\n",
      "# problem_statement_maker \n",
      " **Problem Statement:**\n",
      "\n",
      "Given an integer `n`, determine if it is possible to represent `n` as the sum of distinct powers of three. If such a representation exists, return `true`; otherwise, return `false`. A number `y` is considered a power of three if there exists an integer `x` such that `y == 3^x`.\n",
      "\n",
      "**Examples:**\n",
      "\n",
      "1. **Input:** n = 12\n",
      "   **Output:** true\n",
      "   **Explanation:** 12 = 3^1 + 3^2\n",
      "\n",
      "2. **Input:** n = 91\n",
      "   **Output:** true\n",
      "   **Explanation:** 91 = 3^0 + 3^2 + 3^4\n",
      "\n",
      "3. **Input:** n = 21\n",
      "   **Output:** false\n",
      "\n",
      "**Constraints:**\n",
      "\n",
      "- 1 <= n <= 10^7\n",
      "\n",
      "Your task is to write a function that takes an integer `n` as input and returns `true` if `n` can be expressed as the sum of distinct powers of three, and `false` otherwise.\n",
      "# test_cases \n",
      " Certainly! Here are 5 test cases designed to cover various edge cases and complexities for the given problem statement:\n",
      "\n",
      "1. **Test case 1:**\n",
      "   **Input:** 1\n",
      "   **Output:** true\n",
      "   **Explanation:** 1 is 3^0, which is a power of three.\n",
      "\n",
      "2. **Test case 2:**\n",
      "   **Input:** 27\n",
      "   **Output:** true\n",
      "   **Explanation:** 27 is 3^3, which means it can be represented as a sum of distinct powers of three.\n",
      "\n",
      "3. **Test case 3:**\n",
      "   **Input:** 10\n",
      "   **Output:** false\n",
      "   **Explanation:** 10 cannot be expressed as a sum of distinct powers of three. The closest sums are 9 (3^2) and 12 (3^1 + 3^2).\n",
      "\n",
      "4. **Test case 4:**\n",
      "   **Input:** 81\n",
      "   **Output:** true\n",
      "   **Explanation:** 81 is 3^4, which fits the criteria.\n",
      "\n",
      "5. **Test case 5:**\n",
      "   **Input:** 121\n",
      "   **Output:** false\n",
      "   **Explanation:** 121 cannot be expressed as a sum of distinct powers of three. The closest sums are 81 (3^4), 122 (3^4 + 3^1), and 120 (3^4 + 3^3).\n",
      "\n",
      "These test cases cover the boundaries, basic and complex situations, and edge cases to ensure the solution works as expected for a variety of inputs.\n",
      "# code_prompt_condition \n",
      " Prompt\n",
      "# generate code \n",
      " To solve this problem, we can convert the number `n` into a base-3 (ternary) representation. The idea is that if `n` can be expressed as the sum of distinct powers of three, then when `n` is represented in base-3, each digit in this representation should be either `0` or `1`. If any digit is `2`, it means that `n` includes a power of three more than once, which violates the condition of distinct powers of three.\n",
      "\n",
      "Here is the Python code to achieve this:\n",
      "\n",
      "```python\n",
      "def isSumOfDistinctPowersOfThree(n: int) -> bool:\n",
      "    while n > 0:\n",
      "        # Check if the last digit in base-3 is 2\n",
      "        if n % 3 == 2:\n",
      "            return False\n",
      "        # Divide n by 3 to check the next digit in base-3\n",
      "        n //= 3\n",
      "    return True\n",
      "\n",
      "# Example usage\n",
      "print(isSumOfDistinctPowersOfThree(12))  # Output: True\n",
      "print(isSumOfDistinctPowersOfThree(91))  # Output: True\n",
      "print(isSumOfDistinctPowersOfThree(21))  # Output: False\n",
      "```\n",
      "\n",
      "### Explanation:\n",
      "1. **Base-3 Conversion Check:** The function repeatedly checks the last digit of `n` when it is represented in base-3 by computing `n % 3`. If at any point the last digit is `2`, it means `n` includes a power of three more than once, and thus, it cannot be expressed as the sum of distinct powers of three. The function returns `False`.\n",
      "2. **Iteration:** The function divides `n` by `3` (`n //= 3`) to move to the next digit in the base-3 representation.\n",
      "3. **Return True:** If the loop completes without finding any digit `2`, the function returns `True`, indicating that `n` can be expressed as the sum of distinct powers of three.\n",
      "\n",
      "This approach efficiently solves the problem within the given constraints.\n",
      "# polish_code + no failed test cases\n",
      "\n",
      "The provided code correctly implements the logic to determine if a number can be represented as the sum of distinct powers of three by checking its base-3 representation. Given the constraints and the problem statement, the code should work correctly for all inputs within the range of 1 to \\(10^7\\). The test cases generated based on the problem statement and the constraints do not reveal any flaws or edge cases where the code would fail.\n",
      "# review_code \n",
      " perfect\n",
      "0\n",
      "# test_code \n",
      " Pass\n",
      "True\n",
      "ok\n",
      "orchestrator To solve this problem, we can convert the number `n` into a base-3 (ternary) representation. The idea is that if `n` can be expressed as the sum of distinct powers of three, then when `n` is represented in base-3, each digit in this representation should be either `0` or `1`. If any digit is `2`, it means that `n` includes a power of three more than once, which violates the condition of distinct powers of three.\n",
      "\n",
      "Here is the Python code to achieve this:\n",
      "\n",
      "```python\n",
      "def isSumOfDistinctPowersOfThree(n: int) -> bool:\n",
      "    while n > 0:\n",
      "        # Check if the last digit in base-3 is 2\n",
      "        if n % 3 == 2:\n",
      "            return False\n",
      "        # Divide n by 3 to check the next digit in base-3\n",
      "        n //= 3\n",
      "    return True\n",
      "\n",
      "# Example usage\n",
      "print(isSumOfDistinctPowersOfThree(12))  # Output: True\n",
      "print(isSumOfDistinctPowersOfThree(91))  # Output: True\n",
      "print(isSumOfDistinctPowersOfThree(21))  # Output: False\n",
      "```\n",
      "\n",
      "### Explanation:\n",
      "1. **Base-3 Conversion Check:** The function repeatedly checks the last digit of `n` when it is represented in base-3 by computing `n % 3`. If at any point the last digit is `2`, it means `n` includes a power of three more than once, and thus, it cannot be expressed as the sum of distinct powers of three. The function returns `False`.\n",
      "2. **Iteration:** The function divides `n` by `3` (`n //= 3`) to move to the next digit in the base-3 representation.\n",
      "3. **Return True:** If the loop completes without finding any digit `2`, the function returns `True`, indicating that `n` can be expressed as the sum of distinct powers of three.\n",
      "\n",
      "This approach efficiently solves the problem within the given constraints.\n"
     ]
    }
   ],
   "source": [
    "thread=\"92cd3b0a-7f7f-4f3e-9a9d-6a7a7a7a7a7a\"\n",
    "update=\"\"\n",
    "request={\"initial_input\":input(),\"thread_id\":thread,\"update\":\"None\",\"documentation\":\"None\"}\n",
    "\n",
    "graph.response(request)\n",
    "\n",
    "while(update.lower() not in [\"ok\",\"yes\",\"y\"]):\n",
    "    update=input()\n",
    "\n",
    "    request={\"initial_input\":request.get(\"initial_input\"),\"update\":update,\"documentation\":\"None\",\"thread_id\":thread}\n",
    "\n",
    "    graph.response(request)\n",
    "\n",
    "request={\"initial_input\":request.get(\"initial_input\"),\"update\":request.get(\"update\"),\"documentation\":input(),\"thread_id\":thread}\n",
    "\n",
    "graph.response(request)"
   ]
  },
  {
   "cell_type": "code",
   "execution_count": null,
   "metadata": {},
   "outputs": [
    {
     "name": "stdout",
     "output_type": "stream",
     "text": [
      "ok\n",
      "# check_language \n",
      " python\n",
      "# problem_statement_maker \n",
      " Certainly, here is a problem statement formulated around the concept of checking for palindromes, based on your request:\n",
      "\n",
      "---\n",
      "\n",
      "**Problem Statement:**\n",
      "\n",
      "A palindrome is a string that reads the same backward as forward. For example, \"radar\", \"madam\", and \"racecar\" are palindromes. Your task is to write a function that determines if a given string is a palindrome. The function should take a single string as input and return a boolean value indicating whether the string is a palindrome.\n",
      "\n",
      "- **Input:** A string `s` consisting of lowercase and/or uppercase letters and possibly non-letter characters.\n",
      "- **Output:** A boolean value `true` if the string `s` is a palindrome, and `false` otherwise.\n",
      "\n",
      "**Note:** For the purpose of this problem, you should ignore case sensitivity, meaning \"Racecar\" should be considered a palindrome. However, the solution should not alter the original string's case sensitivity when checking for the palindrome.\n",
      "\n",
      "**Examples:**\n",
      "1. `isPalindrome(\"racecar\")` should return `true`.\n",
      "2. `isPalindrome(\"RaceCar\")` should return `true`.\n",
      "3. `isPalindrome(\"hello\")` should return `false`.\n",
      "4. `isPalindrome(\"A man, a plan, a canal, Panama\")` should return `false` because the function should only consider the string as a whole and not ignore non-letter characters unless specified differently in the problem statement.\n",
      "\n",
      "---\n",
      "\n",
      "This problem statement provides a clear and concise description of the task, including input and output specifications, and examples to clarify the expectations.\n",
      "# test_cases \n",
      " Sure, here are five test cases for the problem statement provided, designed to test various edge cases and complexities:\n",
      "\n",
      "1. **Test case 1:**\n",
      "   - input: \"racecar\"\n",
      "   - output: true\n",
      "   - explanation: This is a straightforward case where the input is a known palindrome, and the function should return `true`.\n",
      "\n",
      "2. **Test case 2:**\n",
      "   - input: \"A man, a plan, a canal, Panama\"\n",
      "   - output: false\n",
      "   - explanation: The problem statement specifies that the function should not ignore non-letter characters. Thus, the function should return `false`, as it considers the string in its entirety, including commas and spaces.\n",
      "\n",
      "3. **Test case 3:**\n",
      "   - input: \"12321\"\n",
      "   - output: true\n",
      "   - explanation: This test case checks for numeric palindromes, which are valid palindromes. The function should return `true`.\n",
      "\n",
      "4. **Test case 4:**\n",
      "   - input: \"Madam, in Eden, I'm Adam\"\n",
      "   - output: false\n",
      "   - explanation: This is a classic palindrome phrase but includes spaces and a comma. The function should return `false` since it should not ignore non-letter characters and the case sensitivity is not to be altered for the palindrome check.\n",
      "\n",
      "5. **Test case 5:**\n",
      "   - input: \"Was it a car or a cat I saw?\"\n",
      "   - output: false\n",
      "   - explanation: This test case checks the function's ability to handle a palindrome phrase with various spaces and punctuation. The function should return `false` since it should strictly consider the string as a whole without ignoring non-letter characters or spaces.\n",
      "\n",
      "These test cases aim to cover a variety of scenarios including standard palindromes, numeric palindromes, and palindromes with spaces and punctuation, testing the function's strictness as per the problem statement.\n"
     ]
    },
    {
     "ename": "KeyError",
     "evalue": "'output'",
     "output_type": "error",
     "traceback": [
      "\u001b[1;31m---------------------------------------------------------------------------\u001b[0m",
      "\u001b[1;31mKeyError\u001b[0m                                  Traceback (most recent call last)",
      "Cell \u001b[1;32mIn[5], line 3\u001b[0m\n\u001b[0;32m      1\u001b[0m request\u001b[38;5;241m=\u001b[39m{\u001b[38;5;124m\"\u001b[39m\u001b[38;5;124minitial_input\u001b[39m\u001b[38;5;124m\"\u001b[39m:request\u001b[38;5;241m.\u001b[39mget(\u001b[38;5;124m\"\u001b[39m\u001b[38;5;124minitial_input\u001b[39m\u001b[38;5;124m\"\u001b[39m),\u001b[38;5;124m\"\u001b[39m\u001b[38;5;124mupdate\u001b[39m\u001b[38;5;124m\"\u001b[39m:request\u001b[38;5;241m.\u001b[39mget(\u001b[38;5;124m\"\u001b[39m\u001b[38;5;124mupdate\u001b[39m\u001b[38;5;124m\"\u001b[39m),\u001b[38;5;124m\"\u001b[39m\u001b[38;5;124mdocumentation\u001b[39m\u001b[38;5;124m\"\u001b[39m:\u001b[38;5;28minput\u001b[39m(),\u001b[38;5;124m\"\u001b[39m\u001b[38;5;124mthread_id\u001b[39m\u001b[38;5;124m\"\u001b[39m:thread}\n\u001b[1;32m----> 3\u001b[0m \u001b[43mgraph\u001b[49m\u001b[38;5;241;43m.\u001b[39;49m\u001b[43mresponse\u001b[49m\u001b[43m(\u001b[49m\u001b[43mrequest\u001b[49m\u001b[43m)\u001b[49m\n",
      "File \u001b[1;32mc:\\Users\\Chinnnolla Koteshwar\\Downloads\\agentic_ai_apps\\AI_coding_assistence\\coding_assistance.py:137\u001b[0m, in \u001b[0;36mcoding_assistance.response\u001b[1;34m(self, chat_request)\u001b[0m\n\u001b[0;32m    133\u001b[0m     \u001b[38;5;28;01mfor\u001b[39;00m event \u001b[38;5;129;01min\u001b[39;00m \u001b[38;5;28mself\u001b[39m\u001b[38;5;241m.\u001b[39mchain\u001b[38;5;241m.\u001b[39mstream(stream_input, thread, stream_mode\u001b[38;5;241m=\u001b[39m\u001b[38;5;124m\"\u001b[39m\u001b[38;5;124mvalues\u001b[39m\u001b[38;5;124m\"\u001b[39m):\n\u001b[0;32m    134\u001b[0m         event_arr\u001b[38;5;241m.\u001b[39mappend(event)\n\u001b[1;32m--> 137\u001b[0m     res\u001b[38;5;241m+\u001b[39m\u001b[38;5;241m=\u001b[39m\u001b[43mevent_arr\u001b[49m\u001b[43m[\u001b[49m\u001b[38;5;241;43m-\u001b[39;49m\u001b[38;5;241;43m1\u001b[39;49m\u001b[43m]\u001b[49m\u001b[43m[\u001b[49m\u001b[38;5;124;43m\"\u001b[39;49m\u001b[38;5;124;43moutput\u001b[39;49m\u001b[38;5;124;43m\"\u001b[39;49m\u001b[43m]\u001b[49m\u001b[38;5;241m+\u001b[39mevent_arr[\u001b[38;5;241m-\u001b[39m\u001b[38;5;241m1\u001b[39m][\u001b[38;5;124m\"\u001b[39m\u001b[38;5;124mfinal_report\u001b[39m\u001b[38;5;124m\"\u001b[39m]\n\u001b[0;32m    139\u001b[0m \u001b[38;5;28;01melif\u001b[39;00m update\u001b[38;5;241m.\u001b[39mlower() \u001b[38;5;129;01min\u001b[39;00m [\u001b[38;5;124m\"\u001b[39m\u001b[38;5;124mstop\u001b[39m\u001b[38;5;124m\"\u001b[39m, \u001b[38;5;124m\"\u001b[39m\u001b[38;5;124mend\u001b[39m\u001b[38;5;124m\"\u001b[39m, \u001b[38;5;124m\"\u001b[39m\u001b[38;5;124mno\u001b[39m\u001b[38;5;124m\"\u001b[39m]:\n\u001b[0;32m    140\u001b[0m     stream_input \u001b[38;5;241m=\u001b[39m {\u001b[38;5;124m\"\u001b[39m\u001b[38;5;124mstop\u001b[39m\u001b[38;5;124m\"\u001b[39m: \u001b[38;5;124m\"\u001b[39m\u001b[38;5;124mstop\u001b[39m\u001b[38;5;124m\"\u001b[39m}\n",
      "\u001b[1;31mKeyError\u001b[0m: 'output'"
     ]
    }
   ],
   "source": [
    "request={\"initial_input\":request.get(\"initial_input\"),\"update\":request.get(\"update\"),\"documentation\":input(),\"thread_id\":thread}\n",
    "\n",
    "graph.response(request)"
   ]
  }
 ],
 "metadata": {
  "kernelspec": {
   "display_name": "Python 3",
   "language": "python",
   "name": "python3"
  },
  "language_info": {
   "codemirror_mode": {
    "name": "ipython",
    "version": 3
   },
   "file_extension": ".py",
   "mimetype": "text/x-python",
   "name": "python",
   "nbconvert_exporter": "python",
   "pygments_lexer": "ipython3",
   "version": "3.12.9"
  }
 },
 "nbformat": 4,
 "nbformat_minor": 2
}
