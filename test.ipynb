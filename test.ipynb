{
 "cells": [
  {
   "cell_type": "code",
   "execution_count": 13,
   "metadata": {},
   "outputs": [],
   "source": [
    "from tools import tools\n",
    "methods = [method for method in tools.__dict__ if callable(tools.__dict__[method])]"
   ]
  },
  {
   "cell_type": "code",
   "execution_count": 14,
   "metadata": {},
   "outputs": [
    {
     "data": {
      "text/plain": [
       "['add', 'Subtract', 'multiply', 'divide']"
      ]
     },
     "execution_count": 14,
     "metadata": {},
     "output_type": "execute_result"
    }
   ],
   "source": [
    "methods"
   ]
  },
  {
   "cell_type": "code",
   "execution_count": 9,
   "metadata": {},
   "outputs": [],
   "source": [
    "from toolcallinglm import build_graph\n",
    "from pprint import pprint\n",
    "graph=build_graph()\n",
    "message=input()\n",
    "response=graph.response(message,\"user\",\"1\")\n"
   ]
  },
  {
   "cell_type": "code",
   "execution_count": 10,
   "metadata": {},
   "outputs": [
    {
     "data": {
      "text/plain": [
       "'11 \\n\\nThe result of 5 + 6 - 1 is 10.'"
      ]
     },
     "execution_count": 10,
     "metadata": {},
     "output_type": "execute_result"
    }
   ],
   "source": [
    "response"
   ]
  },
  {
   "cell_type": "code",
   "execution_count": 2,
   "metadata": {},
   "outputs": [
    {
     "ename": "TypeError",
     "evalue": "string indices must be integers, not 'str'",
     "output_type": "error",
     "traceback": [
      "\u001b[1;31m---------------------------------------------------------------------------\u001b[0m",
      "\u001b[1;31mTypeError\u001b[0m                                 Traceback (most recent call last)",
      "Cell \u001b[1;32mIn[2], line 1\u001b[0m\n\u001b[1;32m----> 1\u001b[0m AI_message\u001b[38;5;241m=\u001b[39m[i \u001b[38;5;28;01mfor\u001b[39;00m i \u001b[38;5;129;01min\u001b[39;00m \u001b[43mresponse\u001b[49m\u001b[43m[\u001b[49m\u001b[38;5;124;43m\"\u001b[39;49m\u001b[38;5;124;43mmessages\u001b[39;49m\u001b[38;5;124;43m\"\u001b[39;49m\u001b[43m]\u001b[49m \u001b[38;5;28;01mif\u001b[39;00m \u001b[38;5;28mstr\u001b[39m(\u001b[38;5;28mtype\u001b[39m(i))\u001b[38;5;241m==\u001b[39m\u001b[38;5;124m\"\u001b[39m\u001b[38;5;124m<class \u001b[39m\u001b[38;5;124m'\u001b[39m\u001b[38;5;124mlangchain_core.messages.ai.AIMessage\u001b[39m\u001b[38;5;124m'\u001b[39m\u001b[38;5;124m>\u001b[39m\u001b[38;5;124m\"\u001b[39m]\n\u001b[0;32m      2\u001b[0m Tool_message\u001b[38;5;241m=\u001b[39m[i \u001b[38;5;28;01mfor\u001b[39;00m i \u001b[38;5;129;01min\u001b[39;00m response[\u001b[38;5;124m\"\u001b[39m\u001b[38;5;124mmessages\u001b[39m\u001b[38;5;124m\"\u001b[39m] \u001b[38;5;28;01mif\u001b[39;00m \u001b[38;5;28mstr\u001b[39m(\u001b[38;5;28mtype\u001b[39m(i))\u001b[38;5;241m==\u001b[39m\u001b[38;5;124m\"\u001b[39m\u001b[38;5;124m<class \u001b[39m\u001b[38;5;124m'\u001b[39m\u001b[38;5;124mlangchain_core.messages.tool.ToolMessage\u001b[39m\u001b[38;5;124m'\u001b[39m\u001b[38;5;124m>\u001b[39m\u001b[38;5;124m\"\u001b[39m]\n",
      "\u001b[1;31mTypeError\u001b[0m: string indices must be integers, not 'str'"
     ]
    }
   ],
   "source": [
    "AI_message=[i for i in response[\"messages\"] if str(type(i))==\"<class 'langchain_core.messages.ai.AIMessage'>\"]\n",
    "Tool_message=[i for i in response[\"messages\"] if str(type(i))==\"<class 'langchain_core.messages.tool.ToolMessage'>\"]"
   ]
  },
  {
   "cell_type": "code",
   "execution_count": 40,
   "metadata": {},
   "outputs": [],
   "source": [
    "tool_content=\"\"\n",
    "for i in Tool_message:\n",
    "    tool_content=i.content+\" \\n\"\n",
    "AI_content=AI_message[-1].content"
   ]
  },
  {
   "cell_type": "code",
   "execution_count": 11,
   "metadata": {},
   "outputs": [
    {
     "data": {
      "text/plain": [
       "'<p>11 </p>\\n\\n<p>The result of 5 + 6 - 1 is 10.</p>\\n'"
      ]
     },
     "execution_count": 11,
     "metadata": {},
     "output_type": "execute_result"
    }
   ],
   "source": [
    "import markdown2\n",
    "md = markdown2.Markdown()\n",
    "md.convert(response)"
   ]
  },
  {
   "cell_type": "code",
   "execution_count": 12,
   "metadata": {},
   "outputs": [
    {
     "data": {
      "text/plain": [
       "'<p>11 </p>\\n<p>The result of 5 + 6 - 1 is 10.</p>'"
      ]
     },
     "execution_count": 12,
     "metadata": {},
     "output_type": "execute_result"
    }
   ],
   "source": [
    "import markdown\n",
    "md = markdown.Markdown()\n",
    "md.convert(response)"
   ]
  },
  {
   "cell_type": "code",
   "execution_count": null,
   "metadata": {},
   "outputs": [],
   "source": []
  },
  {
   "cell_type": "code",
   "execution_count": 22,
   "metadata": {},
   "outputs": [],
   "source": [
    "response=response[\"messages\"][-2:]"
   ]
  },
  {
   "cell_type": "code",
   "execution_count": 23,
   "metadata": {},
   "outputs": [
    {
     "data": {
      "text/plain": [
       "[ToolMessage(content='42', name='multiply', id='08569243-de0f-4a17-a713-e39a3047f56c', tool_call_id='call_sd7g'),\n",
       " AIMessage(content='The result of the arithmetic expression \\\\(5 + 6 \\\\times 7 - 13\\\\) is calculated as follows:\\n\\n1. **Multiplication first**: \\\\(6 \\\\times 7 = 42\\\\)\\n2. **Addition**: \\\\(5 + 42 = 47\\\\)\\n3. **Subtraction**: \\\\(47 - 13 = 34\\\\)\\n\\n**Answer:** 34', additional_kwargs={}, response_metadata={'token_usage': {'completion_tokens': 234, 'prompt_tokens': 653, 'total_tokens': 887, 'completion_time': 0.850909091, 'prompt_time': 0.028493957, 'queue_time': 0.23649407899999997, 'total_time': 0.879403048}, 'model_name': 'DeepSeek-R1-Distill-Llama-70B', 'system_fingerprint': 'fp_492bd52206', 'finish_reason': 'stop', 'logprobs': None}, id='run-36b8b315-d633-44bf-819b-496718f7f2de-0', usage_metadata={'input_tokens': 653, 'output_tokens': 234, 'total_tokens': 887})]"
      ]
     },
     "execution_count": 23,
     "metadata": {},
     "output_type": "execute_result"
    }
   ],
   "source": [
    "response"
   ]
  },
  {
   "cell_type": "code",
   "execution_count": 24,
   "metadata": {},
   "outputs": [
    {
     "name": "stdout",
     "output_type": "stream",
     "text": [
      "================================= Tool Message =================================\n",
      "Name: multiply\n",
      "\n",
      "42\n",
      "<class 'langchain_core.messages.tool.ToolMessage'>\n",
      "================================== Ai Message ==================================\n",
      "\n",
      "The result of the arithmetic expression \\(5 + 6 \\times 7 - 13\\) is calculated as follows:\n",
      "\n",
      "1. **Multiplication first**: \\(6 \\times 7 = 42\\)\n",
      "2. **Addition**: \\(5 + 42 = 47\\)\n",
      "3. **Subtraction**: \\(47 - 13 = 34\\)\n",
      "\n",
      "**Answer:** 34\n",
      "<class 'langchain_core.messages.ai.AIMessage'>\n"
     ]
    }
   ],
   "source": [
    "for i in response:\n",
    "    if str(type(i))==\"<class 'langchain_core.messages.ai.AIMessage'>\" or str(type(i))==\"<class 'langchain_core.messages.tool.ToolMessage'>\":\n",
    "        print(i.pretty_repr())\n",
    "    print(type(i))"
   ]
  },
  {
   "cell_type": "code",
   "execution_count": 27,
   "metadata": {},
   "outputs": [],
   "source": [
    "def prettu(response):\n",
    "    return response[\"messages\"][2]\n",
    "k=prettu(response)\n"
   ]
  },
  {
   "cell_type": "code",
   "execution_count": 36,
   "metadata": {},
   "outputs": [],
   "source": [
    "k=response[\"messages\"][1].pretty_repr()"
   ]
  },
  {
   "cell_type": "code",
   "execution_count": null,
   "metadata": {},
   "outputs": [],
   "source": []
  },
  {
   "cell_type": "code",
   "execution_count": 22,
   "metadata": {},
   "outputs": [
    {
     "name": "stdout",
     "output_type": "stream",
     "text": [
      "None\n"
     ]
    }
   ],
   "source": [
    "print(k)"
   ]
  },
  {
   "cell_type": "code",
   "execution_count": 4,
   "metadata": {},
   "outputs": [
    {
     "ename": "TypeError",
     "evalue": "'module' object is not callable",
     "output_type": "error",
     "traceback": [
      "\u001b[1;31m---------------------------------------------------------------------------\u001b[0m",
      "\u001b[1;31mTypeError\u001b[0m                                 Traceback (most recent call last)",
      "Cell \u001b[1;32mIn[4], line 2\u001b[0m\n\u001b[0;32m      1\u001b[0m \u001b[38;5;28;01mfrom\u001b[39;00m\u001b[38;5;250m \u001b[39m\u001b[38;5;21;01mlangsmith_file\u001b[39;00m\u001b[38;5;250m \u001b[39m\u001b[38;5;28;01mimport\u001b[39;00m openai_agent\n\u001b[1;32m----> 2\u001b[0m agent\u001b[38;5;241m=\u001b[39m\u001b[43mopenai_agent\u001b[49m\u001b[43m(\u001b[49m\u001b[43m)\u001b[49m\n\u001b[0;32m      3\u001b[0m agent\n",
      "\u001b[1;31mTypeError\u001b[0m: 'module' object is not callable"
     ]
    }
   ],
   "source": [
    "from langsmith_file import openai_agent\n",
    "agent=openai_agent()\n",
    "agent"
   ]
  }
 ],
 "metadata": {
  "kernelspec": {
   "display_name": "Python 3",
   "language": "python",
   "name": "python3"
  },
  "language_info": {
   "codemirror_mode": {
    "name": "ipython",
    "version": 3
   },
   "file_extension": ".py",
   "mimetype": "text/x-python",
   "name": "python",
   "nbconvert_exporter": "python",
   "pygments_lexer": "ipython3",
   "version": "3.12.9"
  }
 },
 "nbformat": 4,
 "nbformat_minor": 2
}
